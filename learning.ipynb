{
 "cells": [
  {
   "cell_type": "code",
   "execution_count": 65,
   "metadata": {},
   "outputs": [],
   "source": [
    "import pandas as pd\n",
    "import numpy as np\n",
    "import matplotlib.pyplot as plt\n",
    "from tqdm import tqdm\n",
    "\n",
    "%matplotlib inline"
   ]
  },
  {
   "cell_type": "code",
   "execution_count": 22,
   "metadata": {},
   "outputs": [],
   "source": [
    "import keras"
   ]
  },
  {
   "cell_type": "code",
   "execution_count": 26,
   "metadata": {},
   "outputs": [],
   "source": [
    "import building, training, models, callbacks"
   ]
  },
  {
   "cell_type": "code",
   "execution_count": 27,
   "metadata": {},
   "outputs": [],
   "source": [
    "from importlib import reload"
   ]
  },
  {
   "cell_type": "code",
   "execution_count": 78,
   "metadata": {},
   "outputs": [
    {
     "data": {
      "text/plain": [
       "<module 'callbacks' from '/Users/sergmiller/Documents/code/python/alissa/callbacks.py'>"
      ]
     },
     "execution_count": 78,
     "metadata": {},
     "output_type": "execute_result"
    }
   ],
   "source": [
    "reload(building)\n",
    "reload(training)\n",
    "reload(models)\n",
    "reload(callbacks)"
   ]
  },
  {
   "cell_type": "code",
   "execution_count": 29,
   "metadata": {
    "scrolled": true
   },
   "outputs": [
    {
     "name": "stdout",
     "output_type": "stream",
     "text": [
      "__________________________________________________________________________________________________\n",
      "Layer (type)                    Output Shape         Param #     Connected to                     \n",
      "==================================================================================================\n",
      "context1 (InputLayer)           (None, 40, 300)      0                                            \n",
      "__________________________________________________________________________________________________\n",
      "context2 (InputLayer)           (None, 40, 300)      0                                            \n",
      "__________________________________________________________________________________________________\n",
      "context3 (InputLayer)           (None, 40, 300)      0                                            \n",
      "__________________________________________________________________________________________________\n",
      "context4 (InputLayer)           (None, 40, 300)      0                                            \n",
      "__________________________________________________________________________________________________\n",
      "model_3 (Model)                 (None, 128)          260128      context1[0][0]                   \n",
      "                                                                 context2[0][0]                   \n",
      "                                                                 context3[0][0]                   \n",
      "                                                                 context4[0][0]                   \n",
      "__________________________________________________________________________________________________\n",
      "concatenate_2 (Concatenate)     (None, 512)          0           model_3[1][0]                    \n",
      "                                                                 model_3[2][0]                    \n",
      "                                                                 model_3[3][0]                    \n",
      "                                                                 model_3[4][0]                    \n",
      "__________________________________________________________________________________________________\n",
      "dense_6 (Dense)                 (None, 512)          262656      concatenate_2[0][0]              \n",
      "__________________________________________________________________________________________________\n",
      "leaky_re_lu_6 (LeakyReLU)       (None, 512)          0           dense_6[0][0]                    \n",
      "__________________________________________________________________________________________________\n",
      "dropout_2 (Dropout)             (None, 512)          0           leaky_re_lu_6[0][0]              \n",
      "__________________________________________________________________________________________________\n",
      "dense_7 (Dense)                 (None, 256)          131328      dropout_2[0][0]                  \n",
      "__________________________________________________________________________________________________\n",
      "dense_8 (Dense)                 (None, 1)            257         dense_7[0][0]                    \n",
      "==================================================================================================\n",
      "Total params: 654,369\n",
      "Trainable params: 654,305\n",
      "Non-trainable params: 64\n",
      "__________________________________________________________________________________________________\n"
     ]
    }
   ],
   "source": [
    "model = models.model1((40, 300))\n",
    "model.summary()"
   ]
  },
  {
   "cell_type": "code",
   "execution_count": 9,
   "metadata": {},
   "outputs": [],
   "source": [
    "emb = building.make_emb('datasets/ru.csv')"
   ]
  },
  {
   "cell_type": "code",
   "execution_count": 17,
   "metadata": {},
   "outputs": [],
   "source": [
    "train = pd.read_csv('datasets/sents/train_sents')\n",
    "val = pd.read_csv('datasets/sents/val_sents')\n",
    "train = train.fillna('')\n",
    "val = val.fillna('')"
   ]
  },
  {
   "cell_type": "code",
   "execution_count": 40,
   "metadata": {},
   "outputs": [
    {
     "data": {
      "text/plain": [
       "(7876, 8)"
      ]
     },
     "execution_count": 40,
     "metadata": {},
     "output_type": "execute_result"
    }
   ],
   "source": [
    "val.shape"
   ]
  },
  {
   "cell_type": "code",
   "execution_count": 79,
   "metadata": {},
   "outputs": [],
   "source": [
    "def run_model(train, val, emb, epochs=10, batch_size=32, sample_len=8000, load_file=None, save_file=None):\n",
    "    if load_file is None:\n",
    "        model = model1((40, 300))\n",
    "    else:\n",
    "        model = load_model(model_name)\n",
    "\n",
    "        model.compile(\n",
    "                loss=binary_crossentropy,\n",
    "                optimizer=Adadelta,\n",
    "        )\n",
    "        \n",
    "    \n",
    "    batch_size=32\n",
    "    \n",
    "    filepath = \"weights/weights.{epoch:02d}-{val_loss:.3f}.hdf5\"\n",
    "    \n",
    "    y_train = (train['6'] == 'good').values\n",
    "    y_val = (val['6'] == 'good').values\n",
    "    w_train = train['7']\n",
    "\n",
    "    model.fit_generator(training.flow(train, emb, batch_size, y_train, w_train),\n",
    "                        steps_per_epoch=train.shape[0] / batch_size, \n",
    "                        epochs=epochs, \n",
    "                        shuffle=True,\n",
    "                        callbacks=[callbacks.TelegramCallback(), \n",
    "                                   callbacks.RocCallback(train.sample(sample_len, random_state=101), val, emb),\n",
    "                                  keras.callbacks.ModelCheckpoint(filepath, monitor='val_loss', verbose=0, \n",
    "                                    save_best_only=False, save_weights_only=False, mode='auto', period=1)\n",
    "                                  ],\n",
    "                        validation_data=training.flow(val, emb, batch_size, y_train),\n",
    "                        validation_steps=val.shape[0] / batch_size,\n",
    "                       )\n",
    "\n",
    "    if save_file is not None:\n",
    "        model.save(save_file)"
   ]
  },
  {
   "cell_type": "code",
   "execution_count": 81,
   "metadata": {},
   "outputs": [
    {
     "name": "stdout",
     "output_type": "stream",
     "text": [
      "Epoch 1/10\n",
      "4/3 [======================================] - 5s 1s/step - loss: 1.1105 - val_loss: 0.7303\n",
      "Epoch 2/10\n",
      "4/3 [======================================] - 2s 543ms/step - loss: 0.6642 - val_loss: 0.7019\n",
      "Epoch 3/10\n",
      "4/3 [======================================] - 2s 577ms/step - loss: 0.4022 - val_loss: 0.7325\n",
      "Epoch 4/10\n",
      "4/3 [======================================] - 2s 549ms/step - loss: 0.2582 - val_loss: 0.8767\n",
      "Epoch 5/10\n",
      "4/3 [======================================] - 3s 770ms/step - loss: 0.2510 - val_loss: 1.3797\n",
      "Epoch 6/10\n",
      "4/3 [======================================] - 2s 564ms/step - loss: 0.1953 - val_loss: 0.9376\n",
      "Epoch 7/10\n",
      "4/3 [======================================] - 2s 533ms/step - loss: 0.0611 - val_loss: 0.9864\n",
      "Epoch 8/10\n",
      "4/3 [======================================] - 2s 551ms/step - loss: 0.0384 - val_loss: 1.1165\n",
      "Epoch 9/10\n",
      "4/3 [======================================] - 2s 532ms/step - loss: 0.0222 - val_loss: 1.1018\n",
      "Epoch 10/10\n",
      "4/3 [======================================] - 3s 728ms/step - loss: 0.0187 - val_loss: 1.7150\n"
     ]
    }
   ],
   "source": [
    "run_model(train[:100], val[:100], emb, sample_len=50)"
   ]
  },
  {
   "cell_type": "code",
   "execution_count": null,
   "metadata": {},
   "outputs": [],
   "source": []
  }
 ],
 "metadata": {
  "kernelspec": {
   "display_name": "Python [conda root]",
   "language": "python",
   "name": "conda-root-py"
  },
  "language_info": {
   "codemirror_mode": {
    "name": "ipython",
    "version": 3
   },
   "file_extension": ".py",
   "mimetype": "text/x-python",
   "name": "python",
   "nbconvert_exporter": "python",
   "pygments_lexer": "ipython3",
   "version": "3.6.4"
  }
 },
 "nbformat": 4,
 "nbformat_minor": 2
}
