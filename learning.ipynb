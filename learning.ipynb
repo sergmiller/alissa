{
 "cells": [
  {
   "cell_type": "code",
   "execution_count": 14,
   "metadata": {},
   "outputs": [],
   "source": [
    "import pandas as pd\n",
    "import numpy as np\n",
    "import matplotlib.pyplot as plt\n",
    "from tqdm import tqdm\n",
    "\n",
    "%matplotlib inline"
   ]
  },
  {
   "cell_type": "code",
   "execution_count": 200,
   "metadata": {},
   "outputs": [],
   "source": [
    "import keras\n",
    "from keras.models import load_model\n",
    "from keras.losses import binary_crossentropy, mean_squared_error, mean_squared_error"
   ]
  },
  {
   "cell_type": "code",
   "execution_count": 53,
   "metadata": {},
   "outputs": [],
   "source": [
    "import building, training, models, callbacks"
   ]
  },
  {
   "cell_type": "code",
   "execution_count": 54,
   "metadata": {},
   "outputs": [],
   "source": [
    "from importlib import reload"
   ]
  },
  {
   "cell_type": "code",
   "execution_count": 205,
   "metadata": {},
   "outputs": [
    {
     "data": {
      "text/plain": [
       "<module 'callbacks' from '/home/sergeymiller1996/docs/alissa/callbacks.py'>"
      ]
     },
     "execution_count": 205,
     "metadata": {},
     "output_type": "execute_result"
    }
   ],
   "source": [
    "reload(building)\n",
    "reload(training)\n",
    "reload(models)\n",
    "reload(callbacks)"
   ]
  },
  {
   "cell_type": "code",
   "execution_count": 189,
   "metadata": {
    "scrolled": true
   },
   "outputs": [
    {
     "name": "stdout",
     "output_type": "stream",
     "text": [
      "__________________________________________________________________________________________________\n",
      "Layer (type)                    Output Shape         Param #     Connected to                     \n",
      "==================================================================================================\n",
      "context1 (InputLayer)           (None, 40, 300)      0                                            \n",
      "__________________________________________________________________________________________________\n",
      "context2 (InputLayer)           (None, 40, 300)      0                                            \n",
      "__________________________________________________________________________________________________\n",
      "context3 (InputLayer)           (None, 40, 300)      0                                            \n",
      "__________________________________________________________________________________________________\n",
      "context4 (InputLayer)           (None, 40, 300)      0                                            \n",
      "__________________________________________________________________________________________________\n",
      "model_159 (Model)               (None, 256)          417664      context1[0][0]                   \n",
      "                                                                 context2[0][0]                   \n",
      "                                                                 context3[0][0]                   \n",
      "                                                                 context4[0][0]                   \n",
      "__________________________________________________________________________________________________\n",
      "concatenate_52 (Concatenate)    (None, 1024)         0           model_159[1][0]                  \n",
      "                                                                 model_159[2][0]                  \n",
      "                                                                 model_159[3][0]                  \n",
      "                                                                 model_159[4][0]                  \n",
      "__________________________________________________________________________________________________\n",
      "dense_231 (Dense)               (None, 512)          524800      concatenate_52[0][0]             \n",
      "__________________________________________________________________________________________________\n",
      "leaky_re_lu_317 (LeakyReLU)     (None, 512)          0           dense_231[0][0]                  \n",
      "__________________________________________________________________________________________________\n",
      "dropout_160 (Dropout)           (None, 512)          0           leaky_re_lu_317[0][0]            \n",
      "__________________________________________________________________________________________________\n",
      "model_160 (Model)               (None, 40, 300)      417196      model_159[3][0]                  \n",
      "                                                                 model_159[4][0]                  \n",
      "__________________________________________________________________________________________________\n",
      "class_out (Dense)               (None, 1)            513         dropout_160[0][0]                \n",
      "__________________________________________________________________________________________________\n",
      "auto3 (Lambda)                  (None, 40, 300)      0           model_160[1][0]                  \n",
      "__________________________________________________________________________________________________\n",
      "auto4 (Lambda)                  (None, 40, 300)      0           model_160[2][0]                  \n",
      "==================================================================================================\n",
      "Total params: 1,360,173\n",
      "Trainable params: 1,359,917\n",
      "Non-trainable params: 256\n",
      "__________________________________________________________________________________________________\n"
     ]
    }
   ],
   "source": [
    "model = models.model((40, 300))\n",
    "model.summary()"
   ]
  },
  {
   "cell_type": "code",
   "execution_count": 29,
   "metadata": {},
   "outputs": [],
   "source": [
    "emb = building.make_emb('datasets/ru.csv')"
   ]
  },
  {
   "cell_type": "code",
   "execution_count": 30,
   "metadata": {},
   "outputs": [],
   "source": [
    "train = pd.read_csv('datasets/sents/train_sents')\n",
    "val = pd.read_csv('datasets/sents/val_sents')\n",
    "train = train.fillna('')\n",
    "val = val.fillna('')"
   ]
  },
  {
   "cell_type": "code",
   "execution_count": 31,
   "metadata": {},
   "outputs": [
    {
     "data": {
      "text/html": [
       "<div>\n",
       "<style scoped>\n",
       "    .dataframe tbody tr th:only-of-type {\n",
       "        vertical-align: middle;\n",
       "    }\n",
       "\n",
       "    .dataframe tbody tr th {\n",
       "        vertical-align: top;\n",
       "    }\n",
       "\n",
       "    .dataframe thead th {\n",
       "        text-align: right;\n",
       "    }\n",
       "</style>\n",
       "<table border=\"1\" class=\"dataframe\">\n",
       "  <thead>\n",
       "    <tr style=\"text-align: right;\">\n",
       "      <th></th>\n",
       "      <th>0</th>\n",
       "      <th>1</th>\n",
       "      <th>2</th>\n",
       "      <th>3</th>\n",
       "      <th>4</th>\n",
       "      <th>5</th>\n",
       "      <th>6</th>\n",
       "      <th>7</th>\n",
       "    </tr>\n",
       "  </thead>\n",
       "  <tbody>\n",
       "    <tr>\n",
       "      <th>0</th>\n",
       "      <td>275027354274464</td>\n",
       "      <td>адем , в конце концов я не принимала участия в...</td>\n",
       "      <td>это точно .</td>\n",
       "      <td>а ты имеешь , самое непосредственное отношение...</td>\n",
       "      <td>0</td>\n",
       "      <td>все были весьма впечатлены твоей презентацией .</td>\n",
       "      <td>good</td>\n",
       "      <td>0.947139</td>\n",
       "    </tr>\n",
       "    <tr>\n",
       "      <th>1</th>\n",
       "      <td>275027354274464</td>\n",
       "      <td>адем , в конце концов я не принимала участия в...</td>\n",
       "      <td>это точно .</td>\n",
       "      <td>а ты имеешь , самое непосредственное отношение...</td>\n",
       "      <td>1</td>\n",
       "      <td>нет . я не знала , что всё это связано .</td>\n",
       "      <td>good</td>\n",
       "      <td>0.882188</td>\n",
       "    </tr>\n",
       "    <tr>\n",
       "      <th>2</th>\n",
       "      <td>275027354274464</td>\n",
       "      <td>адем , в конце концов я не принимала участия в...</td>\n",
       "      <td>это точно .</td>\n",
       "      <td>а ты имеешь , самое непосредственное отношение...</td>\n",
       "      <td>2</td>\n",
       "      <td>но стоило тебе прийти . и она дает тебе заколк...</td>\n",
       "      <td>bad</td>\n",
       "      <td>0.749163</td>\n",
       "    </tr>\n",
       "    <tr>\n",
       "      <th>3</th>\n",
       "      <td>275027354274464</td>\n",
       "      <td>адем , в конце концов я не принимала участия в...</td>\n",
       "      <td>это точно .</td>\n",
       "      <td>а ты имеешь , самое непосредственное отношение...</td>\n",
       "      <td>3</td>\n",
       "      <td>учитывая , что у тебя не было особой заинтерес...</td>\n",
       "      <td>good</td>\n",
       "      <td>0.865382</td>\n",
       "    </tr>\n",
       "    <tr>\n",
       "      <th>4</th>\n",
       "      <td>275027354274464</td>\n",
       "      <td>адем , в конце концов я не принимала участия в...</td>\n",
       "      <td>это точно .</td>\n",
       "      <td>а ты имеешь , самое непосредственное отношение...</td>\n",
       "      <td>4</td>\n",
       "      <td>и я не должна была подталкивать тебя ко всем э...</td>\n",
       "      <td>good</td>\n",
       "      <td>0.621098</td>\n",
       "    </tr>\n",
       "  </tbody>\n",
       "</table>\n",
       "</div>"
      ],
      "text/plain": [
       "                 0                                                  1  \\\n",
       "0  275027354274464  адем , в конце концов я не принимала участия в...   \n",
       "1  275027354274464  адем , в конце концов я не принимала участия в...   \n",
       "2  275027354274464  адем , в конце концов я не принимала участия в...   \n",
       "3  275027354274464  адем , в конце концов я не принимала участия в...   \n",
       "4  275027354274464  адем , в конце концов я не принимала участия в...   \n",
       "\n",
       "             2                                                  3  4  \\\n",
       "0  это точно .  а ты имеешь , самое непосредственное отношение...  0   \n",
       "1  это точно .  а ты имеешь , самое непосредственное отношение...  1   \n",
       "2  это точно .  а ты имеешь , самое непосредственное отношение...  2   \n",
       "3  это точно .  а ты имеешь , самое непосредственное отношение...  3   \n",
       "4  это точно .  а ты имеешь , самое непосредственное отношение...  4   \n",
       "\n",
       "                                                   5     6         7  \n",
       "0    все были весьма впечатлены твоей презентацией .  good  0.947139  \n",
       "1           нет . я не знала , что всё это связано .  good  0.882188  \n",
       "2  но стоило тебе прийти . и она дает тебе заколк...   bad  0.749163  \n",
       "3  учитывая , что у тебя не было особой заинтерес...  good  0.865382  \n",
       "4  и я не должна была подталкивать тебя ко всем э...  good  0.621098  "
      ]
     },
     "execution_count": 31,
     "metadata": {},
     "output_type": "execute_result"
    }
   ],
   "source": [
    "train.head()"
   ]
  },
  {
   "cell_type": "code",
   "execution_count": 32,
   "metadata": {},
   "outputs": [
    {
     "data": {
      "text/plain": [
       "(7876, 8)"
      ]
     },
     "execution_count": 32,
     "metadata": {},
     "output_type": "execute_result"
    }
   ],
   "source": [
    "val.shape"
   ]
  },
  {
   "cell_type": "code",
   "execution_count": 206,
   "metadata": {},
   "outputs": [],
   "source": [
    "def run_model(train, val, emb, epochs=20, batch_size=64, sample_len=10000, load_file=None, save_file=None):\n",
    "    if load_file is None:\n",
    "        model = models.model((40, 300), eps=1e-5)\n",
    "    else:\n",
    "        model = load_model(load_file)\n",
    "\n",
    "        model.compile(\n",
    "            loss={'class_out': binary_crossentropy, \n",
    "                  'auto3' : mean_squared_error, \n",
    "                  'auto4': mean_squared_error},\n",
    "            loss_weights = {'class_out': 1, \n",
    "                  'auto3' : 0, \n",
    "                  'auto4': 0},\n",
    "            optimizer='rmsprop',\n",
    "        )\n",
    "    \n",
    "    filepath = \"weights/weights.{epoch:02d}-{val_loss:.3f}.hdf5\"\n",
    "    \n",
    "    y_train = (train['6'] == 'good').values\n",
    "    y_val = (val['6'] == 'good').values\n",
    "    w_train = train['7']\n",
    "    \n",
    "    sample_train = building.shuffle_by_groups(train, '0', random_state=0)[:sample_len]\n",
    "\n",
    "    model.fit_generator(training.flow(train, emb, batch_size, y_train, w_train),\n",
    "                        steps_per_epoch=train.shape[0] / batch_size, \n",
    "                        epochs=epochs, \n",
    "                        shuffle=True,\n",
    "                        callbacks=[callbacks.TelegramCallback(), \n",
    "                                callbacks.RocCallback(sample_train, val, emb),\n",
    "                                callbacks.NDCGCallback(sample_train, val, emb),\n",
    "                                keras.callbacks.ReduceLROnPlateau(monitor='val_loss', factor=0.9,\n",
    "                              patience=3, min_lr=1e-5),\n",
    "                                keras.callbacks.ModelCheckpoint(filepath, monitor='val_loss', verbose=0, \n",
    "                                    save_best_only=False, save_weights_only=False, mode='auto', period=1)\n",
    "                                  ],\n",
    "                        validation_data=training.flow(val, emb, batch_size, y_train),\n",
    "                        validation_steps=val.shape[0] / batch_size,\n",
    "                       )\n",
    "\n",
    "    if save_file is not None:\n",
    "        model.save(save_file)"
   ]
  },
  {
   "cell_type": "code",
   "execution_count": 207,
   "metadata": {},
   "outputs": [
    {
     "name": "stdout",
     "output_type": "stream",
     "text": [
      "Epoch 1/20\n",
      "1108/1107 [==============================] - 339s 306ms/step - loss: 0.5368 - class_out_loss: 0.5137 - auto3_loss: 0.9561 - auto4_loss: 0.8353 - val_loss: 0.9785 - val_class_out_loss: 0.9547 - val_auto3_loss: 0.9770 - val_auto4_loss: 0.8560\n",
      "Epoch 2/20\n",
      "1108/1107 [==============================] - 302s 273ms/step - loss: 0.5136 - class_out_loss: 0.4884 - auto3_loss: 0.9654 - auto4_loss: 0.8447 - val_loss: 0.9847 - val_class_out_loss: 0.9581 - val_auto3_loss: 0.9757 - val_auto4_loss: 0.8546\n",
      "Epoch 3/20\n",
      "1108/1107 [==============================] - 251s 227ms/step - loss: 4.7504 - class_out_loss: 4.7208 - auto3_loss: 0.9655 - auto4_loss: 0.8446 - val_loss: 8.5274 - val_class_out_loss: 8.5023 - val_auto3_loss: 0.9771 - val_auto4_loss: 0.8553\n",
      "Epoch 4/20\n",
      "1108/1107 [==============================] - 304s 274ms/step - loss: 6.3211 - class_out_loss: 6.2982 - auto3_loss: 0.9655 - auto4_loss: 0.8447 - val_loss: 7.7430 - val_class_out_loss: 7.7206 - val_auto3_loss: 0.9776 - val_auto4_loss: 0.8559\n",
      "Epoch 5/20\n",
      "1108/1107 [==============================] - 308s 278ms/step - loss: 6.0857 - class_out_loss: 6.0725 - auto3_loss: 0.9656 - auto4_loss: 0.8445 - val_loss: 8.5244 - val_class_out_loss: 8.5113 - val_auto3_loss: 0.9796 - val_auto4_loss: 0.8560\n",
      "Epoch 6/20\n",
      "1108/1107 [==============================] - 304s 274ms/step - loss: 5.8704 - class_out_loss: 5.8611 - auto3_loss: 0.9655 - auto4_loss: 0.8446 - val_loss: 8.4201 - val_class_out_loss: 8.4121 - val_auto3_loss: 0.9755 - val_auto4_loss: 0.8546\n",
      "Epoch 7/20\n",
      "1108/1107 [==============================] - 310s 280ms/step - loss: 6.0158 - class_out_loss: 6.0056 - auto3_loss: 0.9655 - auto4_loss: 0.8447 - val_loss: 7.8296 - val_class_out_loss: 7.8241 - val_auto3_loss: 0.9780 - val_auto4_loss: 0.8547\n",
      "Epoch 8/20\n",
      "1108/1107 [==============================] - 304s 274ms/step - loss: 5.6357 - class_out_loss: 5.6275 - auto3_loss: 0.9656 - auto4_loss: 0.8447 - val_loss: 7.7133 - val_class_out_loss: 7.7020 - val_auto3_loss: 0.9751 - val_auto4_loss: 0.8539\n",
      "Epoch 9/20\n",
      "1108/1107 [==============================] - 307s 277ms/step - loss: 5.5593 - class_out_loss: 5.5455 - auto3_loss: 0.9656 - auto4_loss: 0.8447 - val_loss: 7.6985 - val_class_out_loss: 7.6832 - val_auto3_loss: 0.9771 - val_auto4_loss: 0.8534\n",
      "Epoch 10/20\n",
      "1108/1107 [==============================] - 514s 464ms/step - loss: 6.2646 - class_out_loss: 6.2507 - auto3_loss: 0.9653 - auto4_loss: 0.8446 - val_loss: 7.8246 - val_class_out_loss: 7.8115 - val_auto3_loss: 0.9788 - val_auto4_loss: 0.8559\n",
      "Epoch 11/20\n",
      "1108/1107 [==============================] - 402s 363ms/step - loss: 6.4164 - class_out_loss: 6.4020 - auto3_loss: 0.9657 - auto4_loss: 0.8448 - val_loss: 7.9226 - val_class_out_loss: 7.9076 - val_auto3_loss: 0.9806 - val_auto4_loss: 0.8557\n",
      "Epoch 12/20\n",
      "1108/1107 [==============================] - 321s 290ms/step - loss: 5.9998 - class_out_loss: 5.9837 - auto3_loss: 0.9656 - auto4_loss: 0.8448 - val_loss: 7.6044 - val_class_out_loss: 7.5874 - val_auto3_loss: 0.9755 - val_auto4_loss: 0.8542\n",
      "Epoch 13/20\n",
      "1108/1107 [==============================] - 345s 312ms/step - loss: 6.2045 - class_out_loss: 6.1870 - auto3_loss: 0.9656 - auto4_loss: 0.8447 - val_loss: 7.6734 - val_class_out_loss: 7.6564 - val_auto3_loss: 0.9750 - val_auto4_loss: 0.8550\n",
      "Epoch 14/20\n",
      "1108/1107 [==============================] - 333s 301ms/step - loss: 5.9889 - class_out_loss: 5.9723 - auto3_loss: 0.9657 - auto4_loss: 0.8448 - val_loss: 7.7419 - val_class_out_loss: 7.7250 - val_auto3_loss: 0.9757 - val_auto4_loss: 0.8558\n",
      "Epoch 15/20\n",
      "1108/1107 [==============================] - 325s 294ms/step - loss: 5.4191 - class_out_loss: 5.4017 - auto3_loss: 0.9657 - auto4_loss: 0.8447 - val_loss: 7.7853 - val_class_out_loss: 7.7679 - val_auto3_loss: 0.9748 - val_auto4_loss: 0.8554\n",
      "Epoch 16/20\n",
      "1108/1107 [==============================] - 321s 290ms/step - loss: 5.6666 - class_out_loss: 5.6489 - auto3_loss: 0.9655 - auto4_loss: 0.8446 - val_loss: 8.2788 - val_class_out_loss: 8.2603 - val_auto3_loss: 0.9750 - val_auto4_loss: 0.8550\n",
      "Epoch 17/20\n",
      "1108/1107 [==============================] - 310s 280ms/step - loss: 5.5342 - class_out_loss: 5.5152 - auto3_loss: 0.9656 - auto4_loss: 0.8446 - val_loss: 7.8957 - val_class_out_loss: 7.8764 - val_auto3_loss: 0.9736 - val_auto4_loss: 0.8541\n",
      "Epoch 18/20\n",
      "1108/1107 [==============================] - 304s 274ms/step - loss: 5.4585 - class_out_loss: 5.4385 - auto3_loss: 0.9655 - auto4_loss: 0.8447 - val_loss: 7.7439 - val_class_out_loss: 7.7235 - val_auto3_loss: 0.9745 - val_auto4_loss: 0.8538\n",
      "Epoch 19/20\n",
      "1108/1107 [==============================] - 423s 382ms/step - loss: 5.4814 - class_out_loss: 5.4607 - auto3_loss: 0.9654 - auto4_loss: 0.8447 - val_loss: 8.0602 - val_class_out_loss: 8.0390 - val_auto3_loss: 0.9759 - val_auto4_loss: 0.8541\n",
      "Epoch 20/20\n",
      "1108/1107 [==============================] - 368s 332ms/step - loss: 5.6447 - class_out_loss: 5.6232 - auto3_loss: 0.9655 - auto4_loss: 0.8447 - val_loss: 7.8442 - val_class_out_loss: 7.8225 - val_auto3_loss: 0.9748 - val_auto4_loss: 0.8552\n"
     ]
    }
   ],
   "source": [
    "run_model(train, val, emb, load_file='weights/weights.06-2.292.hdf5')"
   ]
  },
  {
   "cell_type": "code",
   "execution_count": null,
   "metadata": {},
   "outputs": [],
   "source": []
  }
 ],
 "metadata": {
  "kernelspec": {
   "display_name": "Python 3",
   "language": "python",
   "name": "python3"
  },
  "language_info": {
   "codemirror_mode": {
    "name": "ipython",
    "version": 3
   },
   "file_extension": ".py",
   "mimetype": "text/x-python",
   "name": "python",
   "nbconvert_exporter": "python",
   "pygments_lexer": "ipython3",
   "version": "3.5.2"
  }
 },
 "nbformat": 4,
 "nbformat_minor": 2
}
