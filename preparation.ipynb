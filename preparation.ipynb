{
 "cells": [
  {
   "cell_type": "code",
   "execution_count": 2,
   "metadata": {},
   "outputs": [],
   "source": [
    "import pandas as pd\n",
    "import numpy as np\n",
    "import matplotlib.pyplot as plt\n",
    "from tqdm import tqdm\n",
    "import pickle\n",
    "\n",
    "%matplotlib inline"
   ]
  },
  {
   "cell_type": "code",
   "execution_count": 3,
   "metadata": {},
   "outputs": [],
   "source": [
    "import csv\n",
    "\n",
    "with open('datasets/train.tsv') as f:\n",
    "    rows_train = [line[:-1].split('\\t') for line in f] \n",
    "    \n",
    "with open('datasets/public.tsv') as f:\n",
    "    rows_public = [line[:-1].split('\\t') for line in f] "
   ]
  },
  {
   "cell_type": "code",
   "execution_count": 4,
   "metadata": {},
   "outputs": [],
   "source": [
    "with open('datasets/en-ru.txt/OpenSubtitles2016.en-ru.ru') as f:\n",
    "    base = [line[:-1].split('\\t') for line in f] "
   ]
  },
  {
   "cell_type": "code",
   "execution_count": 4,
   "metadata": {},
   "outputs": [
    {
     "data": {
      "text/plain": [
       "[['621441536517',\n",
       "  '',\n",
       "  '',\n",
       "  'я с ним не разговаривал .',\n",
       "  '4',\n",
       "  'не виделся ну , раздевайтесь .',\n",
       "  'bad',\n",
       "  '0.96996169'],\n",
       " ['621441536517',\n",
       "  '',\n",
       "  '',\n",
       "  'я с ним не разговаривал .',\n",
       "  '5',\n",
       "  'совсем ?',\n",
       "  'good',\n",
       "  '0.9682806455'],\n",
       " ['630918374463',\n",
       "  '',\n",
       "  'двое .',\n",
       "  'о . вау !',\n",
       "  '0',\n",
       "  'что вау ?',\n",
       "  'good',\n",
       "  '0.6852331573'],\n",
       " ['630918374463',\n",
       "  '',\n",
       "  'двое .',\n",
       "  'о . вау !',\n",
       "  '1',\n",
       "  'скажи ?',\n",
       "  'neutral',\n",
       "  '0.6339007578'],\n",
       " ['630918374463',\n",
       "  '',\n",
       "  'двое .',\n",
       "  'о . вау !',\n",
       "  '2',\n",
       "  'чувствуешь себя униженным ? да . меня обогнал хороший человек .',\n",
       "  'bad',\n",
       "  '0.8809825665'],\n",
       " ['630918374463',\n",
       "  '',\n",
       "  'двое .',\n",
       "  'о . вау !',\n",
       "  '3',\n",
       "  'удивлена ?',\n",
       "  'good',\n",
       "  '0.6959357362'],\n",
       " ['630918374463',\n",
       "  '',\n",
       "  'двое .',\n",
       "  'о . вау !',\n",
       "  '4',\n",
       "  'это банально , говорить \" вау \" ?',\n",
       "  'good',\n",
       "  '0.8890238226'],\n",
       " ['630918374463',\n",
       "  '',\n",
       "  'двое .',\n",
       "  'о . вау !',\n",
       "  '5',\n",
       "  'что \" ого \" ?',\n",
       "  'bad',\n",
       "  '0.6807389284'],\n",
       " ['643528390848',\n",
       "  'мой пиджак еще там .',\n",
       "  'оставь его .',\n",
       "  'я . . .',\n",
       "  '0',\n",
       "  'я сказал , надень .',\n",
       "  'bad',\n",
       "  '0.9874565914'],\n",
       " ['643528390848',\n",
       "  'мой пиджак еще там .',\n",
       "  'оставь его .',\n",
       "  'я . . .',\n",
       "  '1',\n",
       "  'я пойду с тобой .',\n",
       "  'good',\n",
       "  '0.9730258034'],\n",
       " ['643528390848',\n",
       "  'мой пиджак еще там .',\n",
       "  'оставь его .',\n",
       "  'я . . .',\n",
       "  '2',\n",
       "  'да , прости .',\n",
       "  'bad',\n",
       "  '0.6369906569'],\n",
       " ['643528390848',\n",
       "  'мой пиджак еще там .',\n",
       "  'оставь его .',\n",
       "  'я . . .',\n",
       "  '3',\n",
       "  'пит .',\n",
       "  'bad',\n",
       "  '0.9202226507'],\n",
       " ['643528390848',\n",
       "  'мой пиджак еще там .',\n",
       "  'оставь его .',\n",
       "  'я . . .',\n",
       "  '4',\n",
       "  'хочешь , хочешь .',\n",
       "  'bad',\n",
       "  '0.8287454542'],\n",
       " ['643528390848',\n",
       "  'мой пиджак еще там .',\n",
       "  'оставь его .',\n",
       "  'я . . .',\n",
       "  '5',\n",
       "  'нет , не надо .',\n",
       "  'good',\n",
       "  '0.9802081983'],\n",
       " ['653200183145',\n",
       "  'прошу вас , офицеры !',\n",
       "  'нет необходимости применять силу !',\n",
       "  'сами разберемся , чучело .',\n",
       "  '0',\n",
       "  'пошел на <CENSORED> !',\n",
       "  'bad',\n",
       "  '0.980781877'],\n",
       " ['653200183145',\n",
       "  'прошу вас , офицеры !',\n",
       "  'нет необходимости применять силу !',\n",
       "  'сами разберемся , чучело .',\n",
       "  '1',\n",
       "  'где ваша храбрость ?',\n",
       "  'bad',\n",
       "  '0.9506167796'],\n",
       " ['653200183145',\n",
       "  'прошу вас , офицеры !',\n",
       "  'нет необходимости применять силу !',\n",
       "  'сами разберемся , чучело .',\n",
       "  '2',\n",
       "  'ага ! досталось твоей черной заднице !',\n",
       "  'good',\n",
       "  '0.9474157531'],\n",
       " ['653200183145',\n",
       "  'прошу вас , офицеры !',\n",
       "  'нет необходимости применять силу !',\n",
       "  'сами разберемся , чучело .',\n",
       "  '3',\n",
       "  'пошел вон !',\n",
       "  'good',\n",
       "  '0.8407936364'],\n",
       " ['653200183145',\n",
       "  'прошу вас , офицеры !',\n",
       "  'нет необходимости применять силу !',\n",
       "  'сами разберемся , чучело .',\n",
       "  '4',\n",
       "  'чао ! чао . . .',\n",
       "  'bad',\n",
       "  '0.7890833525'],\n",
       " ['653200183145',\n",
       "  'прошу вас , офицеры !',\n",
       "  'нет необходимости применять силу !',\n",
       "  'сами разберемся , чучело .',\n",
       "  '5',\n",
       "  'я сказал , захлопнись , нацистская морда !',\n",
       "  'good',\n",
       "  '0.9257406869'],\n",
       " ['654110567558',\n",
       "  '',\n",
       "  'всё ещё не могу поверить , что ты проделал , такой путь сюда только ради меня .',\n",
       "  'что я могу сказать ?',\n",
       "  '0',\n",
       "  'неважно , как ты ко мне относишься .',\n",
       "  'bad',\n",
       "  '0.8208959056'],\n",
       " ['654110567558',\n",
       "  '',\n",
       "  'всё ещё не могу поверить , что ты проделал , такой путь сюда только ради меня .',\n",
       "  'что я могу сказать ?',\n",
       "  '1',\n",
       "  'ты во мне это пробудила .',\n",
       "  'good',\n",
       "  '0.9961416234'],\n",
       " ['654110567558',\n",
       "  '',\n",
       "  'всё ещё не могу поверить , что ты проделал , такой путь сюда только ради меня .',\n",
       "  'что я могу сказать ?',\n",
       "  '2',\n",
       "  'ты сказал , что мы должны держать чувства в себе .',\n",
       "  'good',\n",
       "  '0.9296485351'],\n",
       " ['654110567558',\n",
       "  '',\n",
       "  'всё ещё не могу поверить , что ты проделал , такой путь сюда только ради меня .',\n",
       "  'что я могу сказать ?',\n",
       "  '3',\n",
       "  'ты такой человек .',\n",
       "  'good',\n",
       "  '0.9337894328'],\n",
       " ['654110567558',\n",
       "  '',\n",
       "  'всё ещё не могу поверить , что ты проделал , такой путь сюда только ради меня .',\n",
       "  'что я могу сказать ?',\n",
       "  '4',\n",
       "  'теперь ты знаешь .',\n",
       "  'neutral',\n",
       "  '0.5105012299'],\n",
       " ['654110567558',\n",
       "  '',\n",
       "  'всё ещё не могу поверить , что ты проделал , такой путь сюда только ради меня .',\n",
       "  'что я могу сказать ?',\n",
       "  '5',\n",
       "  'это дурацкая ситуация : прошло время , и мы работаем вместе .',\n",
       "  'bad',\n",
       "  '0.6628903017'],\n",
       " ['660180266218',\n",
       "  '',\n",
       "  'нет , я уже ухожу .',\n",
       "  'эй , спасибо за выпивку .',\n",
       "  '0',\n",
       "  'и тебе спасибо .',\n",
       "  'good',\n",
       "  '0.8147421649'],\n",
       " ['660180266218',\n",
       "  '',\n",
       "  'нет , я уже ухожу .',\n",
       "  'эй , спасибо за выпивку .',\n",
       "  '1',\n",
       "  'тебе тоже .',\n",
       "  'good',\n",
       "  '0.867996997'],\n",
       " ['660180266218',\n",
       "  '',\n",
       "  'нет , я уже ухожу .',\n",
       "  'эй , спасибо за выпивку .',\n",
       "  '2',\n",
       "  'без проблем .',\n",
       "  'bad',\n",
       "  '0.7265574368'],\n",
       " ['660180266218',\n",
       "  '',\n",
       "  'нет , я уже ухожу .',\n",
       "  'эй , спасибо за выпивку .',\n",
       "  '3',\n",
       "  'я скоро вернусь .',\n",
       "  'good',\n",
       "  '0.799084987'],\n",
       " ['660180266218',\n",
       "  '',\n",
       "  'нет , я уже ухожу .',\n",
       "  'эй , спасибо за выпивку .',\n",
       "  '4',\n",
       "  'да не за что .',\n",
       "  'good',\n",
       "  '0.782563154'],\n",
       " ['660180266218',\n",
       "  '',\n",
       "  'нет , я уже ухожу .',\n",
       "  'эй , спасибо за выпивку .',\n",
       "  '5',\n",
       "  'всегда рад .',\n",
       "  'good',\n",
       "  '0.4418129205'],\n",
       " ['674350458110',\n",
       "  'я тут был неподалеку .',\n",
       "  'зашел повидаться .',\n",
       "  'хотел поболтать . . .',\n",
       "  '0',\n",
       "  'как - нибудь в другой раз . я за рулем .',\n",
       "  'good',\n",
       "  '0.5202745343'],\n",
       " ['674350458110',\n",
       "  'я тут был неподалеку .',\n",
       "  'зашел повидаться .',\n",
       "  'хотел поболтать . . .',\n",
       "  '1',\n",
       "  'ты единственный , с кем я могу поговорить .',\n",
       "  'good',\n",
       "  '0.9752563705'],\n",
       " ['674350458110',\n",
       "  'я тут был неподалеку .',\n",
       "  'зашел повидаться .',\n",
       "  'хотел поболтать . . .',\n",
       "  '2',\n",
       "  'есть кое - что , что я хотел сказать .',\n",
       "  'good',\n",
       "  '0.9881063298'],\n",
       " ['674350458110',\n",
       "  'я тут был неподалеку .',\n",
       "  'зашел повидаться .',\n",
       "  'хотел поболтать . . .',\n",
       "  '3',\n",
       "  'мне жаль , в другой раз .',\n",
       "  'good',\n",
       "  '0.9277702082'],\n",
       " ['674350458110',\n",
       "  'я тут был неподалеку .',\n",
       "  'зашел повидаться .',\n",
       "  'хотел поболтать . . .',\n",
       "  '4',\n",
       "  'я тоже хотела поговорить .',\n",
       "  'good',\n",
       "  '0.8933650868'],\n",
       " ['674350458110',\n",
       "  'я тут был неподалеку .',\n",
       "  'зашел повидаться .',\n",
       "  'хотел поболтать . . .',\n",
       "  '5',\n",
       "  'что хотел ?',\n",
       "  'bad',\n",
       "  '0.8124349109'],\n",
       " ['684155190903',\n",
       "  'по всей видимости им нужен был велосипедист тур де франс , а не байкер .',\n",
       "  'я убью своего агента .',\n",
       "  'привет .',\n",
       "  '0',\n",
       "  'привет , а вот и он .',\n",
       "  'good',\n",
       "  '0.9782047131'],\n",
       " ['706512049727',\n",
       "  'окей , бродяга .',\n",
       "  'хорошо .',\n",
       "  'начинай чистить это дерьмо .',\n",
       "  '0',\n",
       "  'нет , сэр , не уберу .',\n",
       "  'good',\n",
       "  '0.9295851846'],\n",
       " ['706512049727',\n",
       "  'окей , бродяга .',\n",
       "  'хорошо .',\n",
       "  'начинай чистить это дерьмо .',\n",
       "  '1',\n",
       "  'хорошо , принцесса .',\n",
       "  'good',\n",
       "  '0.8465071603'],\n",
       " ['706512049727',\n",
       "  'окей , бродяга .',\n",
       "  'хорошо .',\n",
       "  'начинай чистить это дерьмо .',\n",
       "  '2',\n",
       "  'принесу сухих веток .',\n",
       "  'good',\n",
       "  '0.8420324007'],\n",
       " ['706512049727',\n",
       "  'окей , бродяга .',\n",
       "  'хорошо .',\n",
       "  'начинай чистить это дерьмо .',\n",
       "  '3',\n",
       "  'я уже чистил .',\n",
       "  'good',\n",
       "  '0.9876218783'],\n",
       " ['706512049727',\n",
       "  'окей , бродяга .',\n",
       "  'хорошо .',\n",
       "  'начинай чистить это дерьмо .',\n",
       "  '4',\n",
       "  'продолжу .',\n",
       "  'bad',\n",
       "  '0.9095005891'],\n",
       " ['706512049727',\n",
       "  'окей , бродяга .',\n",
       "  'хорошо .',\n",
       "  'начинай чистить это дерьмо .',\n",
       "  '5',\n",
       "  'уже начал .',\n",
       "  'neutral',\n",
       "  '0.8744156942'],\n",
       " ['727582522209',\n",
       "  '',\n",
       "  'он понимает .',\n",
       "  'нет .',\n",
       "  '0',\n",
       "  'что \" нет \" ?',\n",
       "  'bad',\n",
       "  '0.8606806838'],\n",
       " ['727582522209',\n",
       "  '',\n",
       "  'он понимает .',\n",
       "  'нет .',\n",
       "  '1',\n",
       "  'есть другой .',\n",
       "  'bad',\n",
       "  '0.9887948001'],\n",
       " ['727582522209',\n",
       "  '',\n",
       "  'он понимает .',\n",
       "  'нет .',\n",
       "  '2',\n",
       "  'нет ?',\n",
       "  'bad',\n",
       "  '0.6030578647'],\n",
       " ['727582522209',\n",
       "  '',\n",
       "  'он понимает .',\n",
       "  'нет .',\n",
       "  '3',\n",
       "  'да .',\n",
       "  'neutral',\n",
       "  '0.9895093719'],\n",
       " ['727582522209',\n",
       "  '',\n",
       "  'он понимает .',\n",
       "  'нет .',\n",
       "  '4',\n",
       "  'точно не он . исключите его .',\n",
       "  'good',\n",
       "  '0.743888213']]"
      ]
     },
     "execution_count": 4,
     "metadata": {},
     "output_type": "execute_result"
    }
   ],
   "source": [
    "rows_train[200:250]"
   ]
  },
  {
   "cell_type": "code",
   "execution_count": 4,
   "metadata": {},
   "outputs": [
    {
     "name": "stderr",
     "output_type": "stream",
     "text": [
      "100%|██████████| 97533/97533 [00:16<00:00, 6060.16it/s]\n",
      "100%|██████████| 9968/9968 [00:01<00:00, 6243.17it/s]\n"
     ]
    }
   ],
   "source": [
    "import enchant\n",
    "d = enchant.Dict(\"en_US\")\n",
    "\n",
    "def check_en(rows, maxind=2):\n",
    "    global d\n",
    "    for r in tqdm(rows, position=0):\n",
    "        for k in r[:len(r)-maxind]:\n",
    "            if k != '' and d.check(k) and not k.isnumeric():\n",
    "                print(r, k)\n",
    "                return\n",
    "            \n",
    "check_en(rows_train)\n",
    "check_en(rows_public, 0)"
   ]
  },
  {
   "cell_type": "markdown",
   "metadata": {},
   "source": [
    "видно, что нет реплик на английском."
   ]
  },
  {
   "cell_type": "code",
   "execution_count": 6,
   "metadata": {},
   "outputs": [
    {
     "name": "stdout",
     "output_type": "stream",
     "text": [
      "0 8 ['22579918886', 'кликни на меня а потом на надпись \" видео - звонок \" .', 'о , я тебя вижу .', 'ладно , повесь трубку .', '0', 'не могу .', 'good', '0.8753516175']\n",
      "mean token len: 20.346170014251587\n",
      "max token replic 65\n",
      "**************\n",
      "0 6 ['138920940977', 'знаешь , я иногда подумываю , что тебе надо принести сюда свою гитару и показать местным настоящую игру .', 'не - а .', 'нет ?', '0', 'неа .']\n",
      "mean token len: 20.65730337078652\n",
      "max token replic 37\n"
     ]
    }
   ],
   "source": [
    "def get_stats(rows):\n",
    "    lens = set()\n",
    "    for i,r in enumerate(rows):\n",
    "        if len(r) not in lens:\n",
    "            lens.add(len(r))\n",
    "            print(i, len(r), r)\n",
    "            \n",
    "    summ = 0\n",
    "    maxx = 0\n",
    "    for i, r in enumerate(rows):\n",
    "        summ += (len(r[1].split()) + len(r[2].split()) + len(r[3].split()) + len(r[5].split()))\n",
    "        maxx = np.max([maxx] + [len(r[t].split()) for t in [1, 2, 3, 5]])\n",
    "\n",
    "    print('mean token len: {}'.format(summ / len(rows)))\n",
    "    print('max token replic {}'.format(maxx))\n",
    "    \n",
    "\n",
    "get_stats(rows_train)\n",
    "print('**************')\n",
    "get_stats(rows_public)"
   ]
  },
  {
   "cell_type": "markdown",
   "metadata": {},
   "source": [
    "в каждой строке одинаковое число \\t, пустые реплики - ''. Возьмем максимум 30 токенов на реплику."
   ]
  },
  {
   "cell_type": "code",
   "execution_count": 24,
   "metadata": {},
   "outputs": [],
   "source": [
    "train_df = pd.DataFrame(rows_train)\n",
    "public_df = pd.DataFrame(rows_public)"
   ]
  },
  {
   "cell_type": "code",
   "execution_count": 5,
   "metadata": {},
   "outputs": [],
   "source": [
    "train_df = pd.read_csv('datasets/train_df', index_col='Unnamed: 0')"
   ]
  },
  {
   "cell_type": "code",
   "execution_count": 8,
   "metadata": {},
   "outputs": [],
   "source": [
    "from collections import Counter"
   ]
  },
  {
   "cell_type": "code",
   "execution_count": 3,
   "metadata": {},
   "outputs": [
    {
     "data": {
      "text/html": [
       "<div>\n",
       "<style scoped>\n",
       "    .dataframe tbody tr th:only-of-type {\n",
       "        vertical-align: middle;\n",
       "    }\n",
       "\n",
       "    .dataframe tbody tr th {\n",
       "        vertical-align: top;\n",
       "    }\n",
       "\n",
       "    .dataframe thead th {\n",
       "        text-align: right;\n",
       "    }\n",
       "</style>\n",
       "<table border=\"1\" class=\"dataframe\">\n",
       "  <thead>\n",
       "    <tr style=\"text-align: right;\">\n",
       "      <th></th>\n",
       "      <th>0</th>\n",
       "      <th>1</th>\n",
       "      <th>2</th>\n",
       "      <th>3</th>\n",
       "      <th>4</th>\n",
       "      <th>5</th>\n",
       "      <th>6</th>\n",
       "      <th>7</th>\n",
       "    </tr>\n",
       "  </thead>\n",
       "  <tbody>\n",
       "  </tbody>\n",
       "</table>\n",
       "</div>"
      ],
      "text/plain": [
       "Empty DataFrame\n",
       "Columns: [0, 1, 2, 3, 4, 5, 6, 7]\n",
       "Index: []"
      ]
     },
     "execution_count": 3,
     "metadata": {},
     "output_type": "execute_result"
    }
   ],
   "source": [
    "train_df[np.isnan(train_df['0'])]"
   ]
  },
  {
   "cell_type": "code",
   "execution_count": 5,
   "metadata": {},
   "outputs": [
    {
     "data": {
      "text/plain": [
       "Counter({'bad': 34770, 'good': 51509, 'neutral': 11254})"
      ]
     },
     "execution_count": 5,
     "metadata": {},
     "output_type": "execute_result"
    }
   ],
   "source": [
    "Counter(train_df[6])"
   ]
  },
  {
   "cell_type": "markdown",
   "metadata": {},
   "source": [
    "для моделей первого уровня лучше выбрать классы bad + neutral и good"
   ]
  },
  {
   "cell_type": "code",
   "execution_count": 6,
   "metadata": {},
   "outputs": [
    {
     "data": {
      "text/plain": [
       "array([[289676265247, nan, nan, 'мое имя дали мне родители .', 1,\n",
       "        'полное имя ?', 'bad', 0.9387921268000001]], dtype=object)"
      ]
     },
     "execution_count": 6,
     "metadata": {},
     "output_type": "execute_result"
    }
   ],
   "source": [
    "train_df[50:51].values"
   ]
  },
  {
   "cell_type": "code",
   "execution_count": 10,
   "metadata": {},
   "outputs": [
    {
     "data": {
      "text/html": [
       "<div>\n",
       "<style scoped>\n",
       "    .dataframe tbody tr th:only-of-type {\n",
       "        vertical-align: middle;\n",
       "    }\n",
       "\n",
       "    .dataframe tbody tr th {\n",
       "        vertical-align: top;\n",
       "    }\n",
       "\n",
       "    .dataframe thead th {\n",
       "        text-align: right;\n",
       "    }\n",
       "</style>\n",
       "<table border=\"1\" class=\"dataframe\">\n",
       "  <thead>\n",
       "    <tr style=\"text-align: right;\">\n",
       "      <th></th>\n",
       "      <th>0</th>\n",
       "      <th>1</th>\n",
       "      <th>2</th>\n",
       "      <th>3</th>\n",
       "      <th>4</th>\n",
       "      <th>5</th>\n",
       "    </tr>\n",
       "  </thead>\n",
       "  <tbody>\n",
       "    <tr>\n",
       "      <th>0</th>\n",
       "      <td>138920940977</td>\n",
       "      <td>знаешь , я иногда подумываю , что тебе надо пр...</td>\n",
       "      <td>не - а .</td>\n",
       "      <td>нет ?</td>\n",
       "      <td>0</td>\n",
       "      <td>неа .</td>\n",
       "    </tr>\n",
       "    <tr>\n",
       "      <th>1</th>\n",
       "      <td>138920940977</td>\n",
       "      <td>знаешь , я иногда подумываю , что тебе надо пр...</td>\n",
       "      <td>не - а .</td>\n",
       "      <td>нет ?</td>\n",
       "      <td>1</td>\n",
       "      <td>нет , не хочу .</td>\n",
       "    </tr>\n",
       "    <tr>\n",
       "      <th>2</th>\n",
       "      <td>138920940977</td>\n",
       "      <td>знаешь , я иногда подумываю , что тебе надо пр...</td>\n",
       "      <td>не - а .</td>\n",
       "      <td>нет ?</td>\n",
       "      <td>2</td>\n",
       "      <td>нет .</td>\n",
       "    </tr>\n",
       "    <tr>\n",
       "      <th>3</th>\n",
       "      <td>138920940977</td>\n",
       "      <td>знаешь , я иногда подумываю , что тебе надо пр...</td>\n",
       "      <td>не - а .</td>\n",
       "      <td>нет ?</td>\n",
       "      <td>3</td>\n",
       "      <td>конечно , нет .</td>\n",
       "    </tr>\n",
       "    <tr>\n",
       "      <th>4</th>\n",
       "      <td>138920940977</td>\n",
       "      <td>знаешь , я иногда подумываю , что тебе надо пр...</td>\n",
       "      <td>не - а .</td>\n",
       "      <td>нет ?</td>\n",
       "      <td>4</td>\n",
       "      <td>разумеется , нет .</td>\n",
       "    </tr>\n",
       "  </tbody>\n",
       "</table>\n",
       "</div>"
      ],
      "text/plain": [
       "              0                                                  1         2  \\\n",
       "0  138920940977  знаешь , я иногда подумываю , что тебе надо пр...  не - а .   \n",
       "1  138920940977  знаешь , я иногда подумываю , что тебе надо пр...  не - а .   \n",
       "2  138920940977  знаешь , я иногда подумываю , что тебе надо пр...  не - а .   \n",
       "3  138920940977  знаешь , я иногда подумываю , что тебе надо пр...  не - а .   \n",
       "4  138920940977  знаешь , я иногда подумываю , что тебе надо пр...  не - а .   \n",
       "\n",
       "       3  4                   5  \n",
       "0  нет ?  0               неа .  \n",
       "1  нет ?  1     нет , не хочу .  \n",
       "2  нет ?  2               нет .  \n",
       "3  нет ?  3     конечно , нет .  \n",
       "4  нет ?  4  разумеется , нет .  "
      ]
     },
     "execution_count": 10,
     "metadata": {},
     "output_type": "execute_result"
    }
   ],
   "source": [
    "public_df.head()"
   ]
  },
  {
   "cell_type": "code",
   "execution_count": 104,
   "metadata": {},
   "outputs": [],
   "source": [
    "train_df.to_csv('datasets/train_df')\n",
    "public_df.to_csv('datasets/public_df')"
   ]
  },
  {
   "cell_type": "code",
   "execution_count": 5,
   "metadata": {},
   "outputs": [],
   "source": [
    "import regex\n",
    "\n",
    "from nltk.stem.snowball import RussianStemmer"
   ]
  },
  {
   "cell_type": "code",
   "execution_count": 6,
   "metadata": {},
   "outputs": [],
   "source": [
    "def sent2vec(sent, emb, max_len=30, emb_size=300):\n",
    "    vec = np.zeros((max_len, emb_size))\n",
    "    for i, t in enumerate(sent[:min(max_len, len(sent))]):\n",
    "        if t in emb:\n",
    "            vec[i] = emb[t]\n",
    "    return vec\n",
    "\n",
    "def fix_text(text):\n",
    "    text = regex.sub(\"(?s)<ref>.+?</ref>\", \"\", text) # remove reference links\n",
    "    text = regex.sub(\"(?s)<[^>]+>\", \"\", text) # remove html tags\n",
    "    text = regex.sub(\"&[a-z]+;\", \"\", text) # remove html entities\n",
    "    text = regex.sub(\"(?s){{.+?}}\", \"\", text) # remove markup tags\n",
    "    text = regex.sub(\"(?s){.+?}\", \"\", text) # remove markup tags\n",
    "    text = regex.sub(\"(?s)\\[\\[([^]]+\\|)\", \"\", text) # remove link target strings\n",
    "    text = regex.sub(\"(?s)\\[\\[([^]]+\\:.+?]])\", \"\", text) # remove media links\n",
    "    text = regex.sub(\"[']{5}\", \"\", text) # remove italic+bold symbols\n",
    "    text = regex.sub(\"[']{3}\", \"\", text) # remove bold symbols\n",
    "    text = regex.sub(\"[']{2}\", \"\", text) # remove italic symbols\n",
    "    text = regex.sub(u\"[^ \\r\\n\\p{Cyrillic}.?!\\-]\", \" \", text)\n",
    "    text = text.lower()\n",
    "    return text\n",
    "\n",
    "def tokenize_word(word, stemmer):\n",
    "    stem =  stemmer.stem(word)\n",
    "    affix = word[len(stem):]\n",
    "\n",
    "    if affix:\n",
    "        return (stem, '#' + affix)  #To make embeddings work, all suffixes start with artificial token '#'\n",
    "    else:\n",
    "        return (stem, )\n",
    "\n",
    "def clear_sent(sent, stemmer=RussianStemmer):\n",
    "    sent = fix_text(sent)\n",
    "    phrases = regex.split(\"([.?!])?[\\n]+|[.?!] \", sent)\n",
    "    words = [s.split() for s in phrases if s is not None]\n",
    "    \n",
    "    sent = []\n",
    "    for s in words:\n",
    "        sent.append('<s>')\n",
    "        for w in s:\n",
    "            tokens = tokenize_word(w, stemmer)\n",
    "            for t in tokens:\n",
    "                sent.append(t)\n",
    "        sent.append('<\\s>')\n",
    "    \n",
    "    return sent\n",
    "    \n",
    "    \n",
    "\n",
    "def context2vec(context, emb, max_len=30, emb_size=300, stemmer=RussianStemmer()):\n",
    "    assert len(context) == 4\n",
    "    vecs = None\n",
    "    for sent in context:\n",
    "        sent = clear_sent(sent, stemmer)\n",
    "        vec = sent2vec(sent, emb, max_len, emb_size)\n",
    "        if vecs is None:\n",
    "            vecs = vec\n",
    "        else:\n",
    "            vecs = np.concatenate([vecs, vec], axis = 0)\n",
    "    \n",
    "    return vecs"
   ]
  },
  {
   "cell_type": "code",
   "execution_count": 7,
   "metadata": {},
   "outputs": [
    {
     "data": {
      "text/html": [
       "<div>\n",
       "<style scoped>\n",
       "    .dataframe tbody tr th:only-of-type {\n",
       "        vertical-align: middle;\n",
       "    }\n",
       "\n",
       "    .dataframe tbody tr th {\n",
       "        vertical-align: top;\n",
       "    }\n",
       "\n",
       "    .dataframe thead th {\n",
       "        text-align: right;\n",
       "    }\n",
       "</style>\n",
       "<table border=\"1\" class=\"dataframe\">\n",
       "  <thead>\n",
       "    <tr style=\"text-align: right;\">\n",
       "      <th></th>\n",
       "      <th>0</th>\n",
       "      <th>1</th>\n",
       "      <th>2</th>\n",
       "      <th>3</th>\n",
       "      <th>4</th>\n",
       "      <th>5</th>\n",
       "      <th>6</th>\n",
       "      <th>7</th>\n",
       "      <th>8</th>\n",
       "      <th>9</th>\n",
       "      <th>...</th>\n",
       "      <th>291</th>\n",
       "      <th>292</th>\n",
       "      <th>293</th>\n",
       "      <th>294</th>\n",
       "      <th>295</th>\n",
       "      <th>296</th>\n",
       "      <th>297</th>\n",
       "      <th>298</th>\n",
       "      <th>299</th>\n",
       "      <th>300</th>\n",
       "    </tr>\n",
       "  </thead>\n",
       "  <tbody>\n",
       "    <tr>\n",
       "      <th>0</th>\n",
       "      <td>#а</td>\n",
       "      <td>-4.101400</td>\n",
       "      <td>-1.562630</td>\n",
       "      <td>-1.763450</td>\n",
       "      <td>1.296740</td>\n",
       "      <td>-1.608070</td>\n",
       "      <td>0.382005</td>\n",
       "      <td>1.564090</td>\n",
       "      <td>-2.608260</td>\n",
       "      <td>0.735975</td>\n",
       "      <td>...</td>\n",
       "      <td>0.534530</td>\n",
       "      <td>-0.579029</td>\n",
       "      <td>-0.843691</td>\n",
       "      <td>-0.962004</td>\n",
       "      <td>-2.129500</td>\n",
       "      <td>-1.010900</td>\n",
       "      <td>-0.653856</td>\n",
       "      <td>0.551031</td>\n",
       "      <td>-0.419016</td>\n",
       "      <td>2.940400</td>\n",
       "    </tr>\n",
       "    <tr>\n",
       "      <th>1</th>\n",
       "      <td>&lt;s&gt;</td>\n",
       "      <td>0.631460</td>\n",
       "      <td>-0.067456</td>\n",
       "      <td>-0.040757</td>\n",
       "      <td>-0.367607</td>\n",
       "      <td>-1.762190</td>\n",
       "      <td>0.096299</td>\n",
       "      <td>1.673820</td>\n",
       "      <td>-2.933160</td>\n",
       "      <td>0.443866</td>\n",
       "      <td>...</td>\n",
       "      <td>-0.111620</td>\n",
       "      <td>-2.482170</td>\n",
       "      <td>-0.099588</td>\n",
       "      <td>-0.834389</td>\n",
       "      <td>-0.428096</td>\n",
       "      <td>-1.992310</td>\n",
       "      <td>0.171781</td>\n",
       "      <td>2.477040</td>\n",
       "      <td>0.640765</td>\n",
       "      <td>-0.872630</td>\n",
       "    </tr>\n",
       "    <tr>\n",
       "      <th>2</th>\n",
       "      <td>&lt;\\s&gt;</td>\n",
       "      <td>0.502858</td>\n",
       "      <td>0.026610</td>\n",
       "      <td>2.076380</td>\n",
       "      <td>0.728407</td>\n",
       "      <td>-0.898755</td>\n",
       "      <td>-0.618859</td>\n",
       "      <td>-0.316382</td>\n",
       "      <td>-2.299430</td>\n",
       "      <td>2.866370</td>\n",
       "      <td>...</td>\n",
       "      <td>-0.111344</td>\n",
       "      <td>1.095510</td>\n",
       "      <td>2.004330</td>\n",
       "      <td>-2.398250</td>\n",
       "      <td>0.218152</td>\n",
       "      <td>-3.571300</td>\n",
       "      <td>-0.339903</td>\n",
       "      <td>1.649190</td>\n",
       "      <td>0.634857</td>\n",
       "      <td>1.665190</td>\n",
       "    </tr>\n",
       "    <tr>\n",
       "      <th>3</th>\n",
       "      <td>в</td>\n",
       "      <td>-2.153200</td>\n",
       "      <td>1.362080</td>\n",
       "      <td>-0.337849</td>\n",
       "      <td>-0.202003</td>\n",
       "      <td>-0.766991</td>\n",
       "      <td>1.692760</td>\n",
       "      <td>-0.023651</td>\n",
       "      <td>0.876718</td>\n",
       "      <td>0.477964</td>\n",
       "      <td>...</td>\n",
       "      <td>-0.174846</td>\n",
       "      <td>2.552480</td>\n",
       "      <td>2.388990</td>\n",
       "      <td>2.427570</td>\n",
       "      <td>1.060910</td>\n",
       "      <td>-2.612810</td>\n",
       "      <td>1.363280</td>\n",
       "      <td>1.068370</td>\n",
       "      <td>-0.153690</td>\n",
       "      <td>1.786640</td>\n",
       "    </tr>\n",
       "    <tr>\n",
       "      <th>4</th>\n",
       "      <td>#е</td>\n",
       "      <td>0.594356</td>\n",
       "      <td>-1.222150</td>\n",
       "      <td>0.957230</td>\n",
       "      <td>4.084710</td>\n",
       "      <td>-4.115140</td>\n",
       "      <td>1.016760</td>\n",
       "      <td>5.927720</td>\n",
       "      <td>-4.749430</td>\n",
       "      <td>-3.387180</td>\n",
       "      <td>...</td>\n",
       "      <td>1.943730</td>\n",
       "      <td>-2.960990</td>\n",
       "      <td>-2.340490</td>\n",
       "      <td>1.330020</td>\n",
       "      <td>-1.156840</td>\n",
       "      <td>-0.837078</td>\n",
       "      <td>0.508406</td>\n",
       "      <td>3.587350</td>\n",
       "      <td>3.116740</td>\n",
       "      <td>-0.479126</td>\n",
       "    </tr>\n",
       "  </tbody>\n",
       "</table>\n",
       "<p>5 rows × 301 columns</p>\n",
       "</div>"
      ],
      "text/plain": [
       "    0         1         2         3         4         5         6         7    \\\n",
       "0    #а -4.101400 -1.562630 -1.763450  1.296740 -1.608070  0.382005  1.564090   \n",
       "1   <s>  0.631460 -0.067456 -0.040757 -0.367607 -1.762190  0.096299  1.673820   \n",
       "2  <\\s>  0.502858  0.026610  2.076380  0.728407 -0.898755 -0.618859 -0.316382   \n",
       "3     в -2.153200  1.362080 -0.337849 -0.202003 -0.766991  1.692760 -0.023651   \n",
       "4    #е  0.594356 -1.222150  0.957230  4.084710 -4.115140  1.016760  5.927720   \n",
       "\n",
       "        8         9      ...          291       292       293       294  \\\n",
       "0 -2.608260  0.735975    ...     0.534530 -0.579029 -0.843691 -0.962004   \n",
       "1 -2.933160  0.443866    ...    -0.111620 -2.482170 -0.099588 -0.834389   \n",
       "2 -2.299430  2.866370    ...    -0.111344  1.095510  2.004330 -2.398250   \n",
       "3  0.876718  0.477964    ...    -0.174846  2.552480  2.388990  2.427570   \n",
       "4 -4.749430 -3.387180    ...     1.943730 -2.960990 -2.340490  1.330020   \n",
       "\n",
       "        295       296       297       298       299       300  \n",
       "0 -2.129500 -1.010900 -0.653856  0.551031 -0.419016  2.940400  \n",
       "1 -0.428096 -1.992310  0.171781  2.477040  0.640765 -0.872630  \n",
       "2  0.218152 -3.571300 -0.339903  1.649190  0.634857  1.665190  \n",
       "3  1.060910 -2.612810  1.363280  1.068370 -0.153690  1.786640  \n",
       "4 -1.156840 -0.837078  0.508406  3.587350  3.116740 -0.479126  \n",
       "\n",
       "[5 rows x 301 columns]"
      ]
     },
     "execution_count": 7,
     "metadata": {},
     "output_type": "execute_result"
    }
   ],
   "source": [
    "ru_emb_csv = pd.read_csv('datasets/ru.csv', header=None).drop([301], axis=1)\n",
    "ru_emb_csv.head()"
   ]
  },
  {
   "cell_type": "code",
   "execution_count": 8,
   "metadata": {},
   "outputs": [
    {
     "data": {
      "text/plain": [
       "(50053, 301)"
      ]
     },
     "execution_count": 8,
     "metadata": {},
     "output_type": "execute_result"
    }
   ],
   "source": [
    "ru_emb_csv.shape"
   ]
  },
  {
   "cell_type": "code",
   "execution_count": 9,
   "metadata": {},
   "outputs": [],
   "source": [
    "ru_emb = {str(line[0]): np.array(line[1:]) for line in ru_emb_csv.values}"
   ]
  },
  {
   "cell_type": "code",
   "execution_count": 67,
   "metadata": {},
   "outputs": [
    {
     "data": {
      "text/plain": [
       "array(['!',\n",
       "       'ты единственный свидетель , и убийцы не знают , что ты видела .',\n",
       "       'я смогу тебя защитить .', 'защитить меня ?'], dtype=object)"
      ]
     },
     "execution_count": 67,
     "metadata": {},
     "output_type": "execute_result"
    }
   ],
   "source": [
    "train_df[[1,2,3,5]][109:110].values[0]"
   ]
  },
  {
   "cell_type": "code",
   "execution_count": 119,
   "metadata": {},
   "outputs": [],
   "source": [
    "v = context2vec(['Я пришел домой. Перед этим был на работе.', '', '', ''], ru_emb)"
   ]
  },
  {
   "cell_type": "code",
   "execution_count": 120,
   "metadata": {},
   "outputs": [
    {
     "data": {
      "text/plain": [
       "(120, 300)"
      ]
     },
     "execution_count": 120,
     "metadata": {},
     "output_type": "execute_result"
    }
   ],
   "source": [
    "v.shape"
   ]
  },
  {
   "cell_type": "code",
   "execution_count": 30,
   "metadata": {},
   "outputs": [],
   "source": [
    "def df2vec(df, emb):\n",
    "    res = []\n",
    "    for i in tqdm(range(df.shape[0]), position=0):\n",
    "        res.append(context2vec(df[[1,2,3,5]][i:i+1].values[0], emb, max_len=40))\n",
    "    return np.array(res)"
   ]
  },
  {
   "cell_type": "code",
   "execution_count": 12,
   "metadata": {},
   "outputs": [
    {
     "data": {
      "text/plain": [
       "array(['кликни на меня а потом на надпись \" видео - звонок \" .',\n",
       "       'о , я тебя вижу .', 'ладно , повесь трубку .', 'не могу .'],\n",
       "      dtype=object)"
      ]
     },
     "execution_count": 12,
     "metadata": {},
     "output_type": "execute_result"
    }
   ],
   "source": [
    "train_df[[1,2,3,5]].iloc[0].values"
   ]
  },
  {
   "cell_type": "code",
   "execution_count": 11,
   "metadata": {},
   "outputs": [],
   "source": [
    "from sklearn.model_selection import train_test_split"
   ]
  },
  {
   "cell_type": "code",
   "execution_count": 13,
   "metadata": {},
   "outputs": [],
   "source": [
    "def shuffle_by_groups(df, col, random_state=None):\n",
    "    groups = [df for _, df in df.groupby(col)]\n",
    "    np.random.seed(random_state)\n",
    "    np.random.shuffle(groups)\n",
    "    return pd.concat(groups).reset_index(drop=True)"
   ]
  },
  {
   "cell_type": "code",
   "execution_count": 15,
   "metadata": {},
   "outputs": [],
   "source": [
    "stack_sents, test_sents = \\\n",
    "    train_test_split(shuffle_by_groups(train_df, '0', 42), test_size=0.05, shuffle=False)\n",
    "    \n",
    "train_val_sents, boost_sents = \\\n",
    "    train_test_split(shuffle_by_groups(stack_sents, '0', 13), test_size=0.15, shuffle=False)\n",
    "\n",
    "train_sents, val_sents = \\\n",
    "    train_test_split(shuffle_by_groups(train_val_sents, '0', 25), test_size=0.1, shuffle=False)"
   ]
  },
  {
   "cell_type": "code",
   "execution_count": 16,
   "metadata": {},
   "outputs": [
    {
     "data": {
      "text/plain": [
       "(70881, 7876, 13899, 4877)"
      ]
     },
     "execution_count": 16,
     "metadata": {},
     "output_type": "execute_result"
    }
   ],
   "source": [
    "train_sents.shape[0], val_sents.shape[0], boost_sents.shape[0], test_sents.shape[0]"
   ]
  },
  {
   "cell_type": "code",
   "execution_count": 18,
   "metadata": {},
   "outputs": [],
   "source": [
    "train_sents.to_csv('datasets/sents/train_sents', index=False)\n",
    "val_sents.to_csv('datasets/sents/val_sents', index=False)\n",
    "test_sents.to_csv('datasets/sents/test_sents', index=False)\n",
    "boost_sents.to_csv('datasets/sents/boost_sents', index=False)"
   ]
  },
  {
   "cell_type": "code",
   "execution_count": 32,
   "metadata": {},
   "outputs": [
    {
     "name": "stderr",
     "output_type": "stream",
     "text": [
      "100%|██████████| 7876/7876 [00:48<00:00, 161.11it/s]\n",
      "100%|██████████| 4877/4877 [00:28<00:00, 172.77it/s]\n",
      "100%|██████████| 13899/13899 [02:15<00:00, 102.21it/s]\n"
     ]
    }
   ],
   "source": [
    "# val_vecs = df2vec(val_sents, ru_emb)\n",
    "# np.save('datasets/vecs/val_vecs', val_vecs)\n",
    "# test_vecs = df2vec(test_sents, ru_emb)\n",
    "# np.save('datasets/vecs/test_vecs', test_vecs)\n",
    "# boost_vecs = df2vec(boost_sents, ru_emb)\n",
    "# np.save('datasets/vecs/boost_vecs', boost_vecs)\n",
    "# train_vecs = df2vec(train_sents, ru_emb)\n",
    "# np.save('datasets/vecs/train_vecs', train_vecs)"
   ]
  },
  {
   "cell_type": "markdown",
   "metadata": {},
   "source": [
    "## mapping base"
   ]
  },
  {
   "cell_type": "code",
   "execution_count": 10,
   "metadata": {},
   "outputs": [],
   "source": [
    "from joblib import Parallel, delayed"
   ]
  },
  {
   "cell_type": "code",
   "execution_count": null,
   "metadata": {},
   "outputs": [
    {
     "name": "stderr",
     "output_type": "stream",
     "text": [
      "  0%|          | 0/1856248 [00:00<?, ?it/s]/Users/sergmiller/anaconda3/lib/python3.6/site-packages/numpy/core/fromnumeric.py:2957: RuntimeWarning: Mean of empty slice.\n",
      "  out=out, **kwargs)\n",
      "/Users/sergmiller/anaconda3/lib/python3.6/site-packages/numpy/core/fromnumeric.py:2957: RuntimeWarning: Mean of empty slice.\n",
      "  out=out, **kwargs)\n",
      "/Users/sergmiller/anaconda3/lib/python3.6/site-packages/numpy/core/_methods.py:73: RuntimeWarning: invalid value encountered in true_divide\n",
      "  ret, rcount, out=ret, casting='unsafe', subok=False)\n",
      "  0%|          | 8/1856248 [00:00<11:31:52, 44.71it/s]/Users/sergmiller/anaconda3/lib/python3.6/site-packages/numpy/core/_methods.py:73: RuntimeWarning: invalid value encountered in true_divide\n",
      "  ret, rcount, out=ret, casting='unsafe', subok=False)\n",
      "/Users/sergmiller/anaconda3/lib/python3.6/site-packages/numpy/core/fromnumeric.py:2957: RuntimeWarning: Mean of empty slice.\n",
      "  out=out, **kwargs)\n",
      "/Users/sergmiller/anaconda3/lib/python3.6/site-packages/numpy/core/fromnumeric.py:2957: RuntimeWarning: Mean of empty slice.\n",
      "  out=out, **kwargs)\n",
      "/Users/sergmiller/anaconda3/lib/python3.6/site-packages/numpy/core/_methods.py:73: RuntimeWarning: invalid value encountered in true_divide\n",
      "  ret, rcount, out=ret, casting='unsafe', subok=False)\n",
      "/Users/sergmiller/anaconda3/lib/python3.6/site-packages/numpy/core/_methods.py:73: RuntimeWarning: invalid value encountered in true_divide\n",
      "  ret, rcount, out=ret, casting='unsafe', subok=False)\n",
      "  1%|          | 13540/1856248 [00:26<1:00:20, 508.96it/s]"
     ]
    }
   ],
   "source": [
    "# next_map = np.zeros((len(base) // 10, 2, 300))\n",
    "max_len = 40\n",
    "\n",
    "inds = list(enumerate(np.random.choice(range(len(base) - 4), \n",
    "                                                size=len(base) // 10)))\n",
    "\n",
    "def f(t, i):\n",
    "    vec = context2vec([x[0] for x in base[i:i+4]], ru_emb)\n",
    "    context = np.mean(vec[:3 * max_len], axis=0).reshape(-1)\n",
    "    reply = np.mean(vec[3 * max_len:], axis=0).reshape(-1)\n",
    "    return np.array([context, reply])\n",
    "\n",
    "with Parallel(n_jobs=-1) as parallel:\n",
    "    next_map = np.array(parallel(delayed(f)(t, i) for t, i in tqdm(inds,  position=0)))\n",
    "\n",
    "\n",
    "# for t,i in tqdm(inds,  position=0):\n",
    "#     vec = context2vec([x[0] for x in base[i:i+4]], ru_emb)\n",
    "#     context = np.mean(vec[:3 * max_len], axis=0).reshape(-1)\n",
    "#     reply = np.mean(vec[3 * max_len:], axis=0).reshape(-1)\n",
    "#     next_map[t][0] = context\n",
    "#     next_map[t][1] = reply\n",
    "\n",
    "np.save('datasets/base_map_big', next_map)\n",
    "    \n",
    "# with open('base_map_big', 'wb') as f:\n",
    "#     pickle.dump([next_map], f, -1)"
   ]
  },
  {
   "cell_type": "code",
   "execution_count": 19,
   "metadata": {},
   "outputs": [
    {
     "name": "stderr",
     "output_type": "stream",
     "text": [
      "\r",
      "  1%|          | 16233/1856248 [01:30<2:50:44, 179.61it/s]"
     ]
    }
   ],
   "source": [
    "with open('base_map', 'rb') as f:\n",
    "    next_map = pickle.load(f)"
   ]
  },
  {
   "cell_type": "code",
   "execution_count": 18,
   "metadata": {},
   "outputs": [],
   "source": [
    "subtitle_emb_space = np.array([np.array(k) for k in next_map.keys()])"
   ]
  },
  {
   "cell_type": "code",
   "execution_count": 20,
   "metadata": {},
   "outputs": [],
   "source": [
    "np.save('subtitle_emb_space',subtitle_emb_space)"
   ]
  },
  {
   "cell_type": "code",
   "execution_count": null,
   "metadata": {},
   "outputs": [],
   "source": []
  }
 ],
 "metadata": {
  "kernelspec": {
   "display_name": "Python 3",
   "language": "python",
   "name": "python3"
  },
  "language_info": {
   "codemirror_mode": {
    "name": "ipython",
    "version": 3
   },
   "file_extension": ".py",
   "mimetype": "text/x-python",
   "name": "python",
   "nbconvert_exporter": "python",
   "pygments_lexer": "ipython3",
   "version": "3.6.4"
  }
 },
 "nbformat": 4,
 "nbformat_minor": 2
}
