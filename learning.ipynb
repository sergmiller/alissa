{
 "cells": [
  {
   "cell_type": "code",
   "execution_count": 1,
   "metadata": {},
   "outputs": [],
   "source": [
    "import pandas as pd\n",
    "import numpy as np\n",
    "import matplotlib.pyplot as plt\n",
    "from tqdm import tqdm\n",
    "\n",
    "from catboost import CatBoostRegressor\n",
    "import pyltr\n",
    "import pickle\n",
    "\n",
    "%matplotlib inline"
   ]
  },
  {
   "cell_type": "code",
   "execution_count": 2,
   "metadata": {},
   "outputs": [
    {
     "name": "stderr",
     "output_type": "stream",
     "text": [
      "/Users/sergmiller/anaconda3/envs/py35/lib/python3.5/site-packages/h5py/__init__.py:36: FutureWarning: Conversion of the second argument of issubdtype from `float` to `np.floating` is deprecated. In future, it will be treated as `np.float64 == np.dtype(float).type`.\n",
      "  from ._conv import register_converters as _register_converters\n",
      "Using TensorFlow backend.\n",
      "/Users/sergmiller/anaconda3/envs/py35/lib/python3.5/importlib/_bootstrap.py:222: RuntimeWarning: compiletime version 3.6 of module 'tensorflow.python.framework.fast_tensor_util' does not match runtime version 3.5\n",
      "  return f(*args, **kwds)\n"
     ]
    }
   ],
   "source": [
    "import keras\n",
    "from keras.models import load_model\n",
    "from keras.losses import binary_crossentropy, mean_squared_error, mean_squared_error"
   ]
  },
  {
   "cell_type": "code",
   "execution_count": 3,
   "metadata": {},
   "outputs": [],
   "source": [
    "import building, training, models, callbacks, wonder, generator, ranking"
   ]
  },
  {
   "cell_type": "code",
   "execution_count": 4,
   "metadata": {},
   "outputs": [],
   "source": [
    "from importlib import reload"
   ]
  },
  {
   "cell_type": "code",
   "execution_count": 5,
   "metadata": {},
   "outputs": [
    {
     "data": {
      "text/plain": [
       "<module 'ranking' from '/Users/sergmiller/Documents/code/python/alissa/ranking.py'>"
      ]
     },
     "execution_count": 5,
     "metadata": {},
     "output_type": "execute_result"
    }
   ],
   "source": [
    "reload(building)\n",
    "reload(training)\n",
    "reload(models)\n",
    "reload(callbacks)\n",
    "reload(wonder)\n",
    "reload(generator)\n",
    "reload(ranking)"
   ]
  },
  {
   "cell_type": "code",
   "execution_count": 6,
   "metadata": {},
   "outputs": [],
   "source": [
    "emb = building.make_emb('datasets/ru.csv')\n",
    "train = pd.read_csv('datasets/sents/train_sents').fillna('')\n",
    "val = pd.read_csv('datasets/sents/val_sents').fillna('')\n",
    "boost = pd.read_csv('datasets/sents/boost_sents').fillna('')\n",
    "test = pd.read_csv('datasets/sents/test_sents').fillna('')\n",
    "public = pd.read_csv('datasets/public_df', index_col='Unnamed: 0').fillna('')"
   ]
  },
  {
   "cell_type": "code",
   "execution_count": 47,
   "metadata": {},
   "outputs": [],
   "source": [
    "train_val = pd.concat([train, val], axis=0)"
   ]
  },
  {
   "cell_type": "code",
   "execution_count": 48,
   "metadata": {},
   "outputs": [
    {
     "data": {
      "text/plain": [
       "(78757, 8)"
      ]
     },
     "execution_count": 48,
     "metadata": {},
     "output_type": "execute_result"
    }
   ],
   "source": [
    "train_val.shape"
   ]
  },
  {
   "cell_type": "code",
   "execution_count": 7,
   "metadata": {},
   "outputs": [
    {
     "name": "stdout",
     "output_type": "stream",
     "text": [
      "WARNING:tensorflow:From /Users/sergmiller/anaconda3/envs/py35/lib/python3.5/site-packages/tensorflow/python/util/deprecation.py:497: calling conv1d (from tensorflow.python.ops.nn_ops) with data_format=NHWC is deprecated and will be removed in a future version.\n",
      "Instructions for updating:\n",
      "`NHWC` for data_format is deprecated, use `NWC` instead\n"
     ]
    }
   ],
   "source": [
    "model = load_model('weights/golden/weights.02-0.985.hdf5')\n",
    "\n",
    "model.compile(\n",
    "    loss={'class_out': binary_crossentropy, \n",
    "          'auto3' : mean_squared_error, \n",
    "          'auto4': mean_squared_error},\n",
    "    loss_weights = {'class_out': 1, \n",
    "          'auto3' : 0, \n",
    "          'auto4': 0},\n",
    "    optimizer='rmsprop',\n",
    ")"
   ]
  },
  {
   "cell_type": "markdown",
   "metadata": {},
   "source": [
    "must load end!"
   ]
  },
  {
   "cell_type": "code",
   "execution_count": 9,
   "metadata": {},
   "outputs": [
    {
     "data": {
      "text/html": [
       "<div>\n",
       "<style scoped>\n",
       "    .dataframe tbody tr th:only-of-type {\n",
       "        vertical-align: middle;\n",
       "    }\n",
       "\n",
       "    .dataframe tbody tr th {\n",
       "        vertical-align: top;\n",
       "    }\n",
       "\n",
       "    .dataframe thead th {\n",
       "        text-align: right;\n",
       "    }\n",
       "</style>\n",
       "<table border=\"1\" class=\"dataframe\">\n",
       "  <thead>\n",
       "    <tr style=\"text-align: right;\">\n",
       "      <th></th>\n",
       "      <th>0</th>\n",
       "      <th>1</th>\n",
       "      <th>2</th>\n",
       "      <th>3</th>\n",
       "      <th>4</th>\n",
       "      <th>5</th>\n",
       "      <th>6</th>\n",
       "      <th>7</th>\n",
       "    </tr>\n",
       "  </thead>\n",
       "  <tbody>\n",
       "    <tr>\n",
       "      <th>0</th>\n",
       "      <td>94846308296151</td>\n",
       "      <td>я пойду , э , освежусь .</td>\n",
       "      <td>сделай массажный душ , джамбо .</td>\n",
       "      <td>хмм ?</td>\n",
       "      <td>0</td>\n",
       "      <td>да , в ванной .</td>\n",
       "      <td>good</td>\n",
       "      <td>0.942226</td>\n",
       "    </tr>\n",
       "    <tr>\n",
       "      <th>1</th>\n",
       "      <td>94846308296151</td>\n",
       "      <td>я пойду , э , освежусь .</td>\n",
       "      <td>сделай массажный душ , джамбо .</td>\n",
       "      <td>хмм ?</td>\n",
       "      <td>1</td>\n",
       "      <td>я не грязный .</td>\n",
       "      <td>bad</td>\n",
       "      <td>0.812665</td>\n",
       "    </tr>\n",
       "    <tr>\n",
       "      <th>2</th>\n",
       "      <td>94846308296151</td>\n",
       "      <td>я пойду , э , освежусь .</td>\n",
       "      <td>сделай массажный душ , джамбо .</td>\n",
       "      <td>хмм ?</td>\n",
       "      <td>2</td>\n",
       "      <td>так , будь готова .</td>\n",
       "      <td>good</td>\n",
       "      <td>0.488691</td>\n",
       "    </tr>\n",
       "    <tr>\n",
       "      <th>3</th>\n",
       "      <td>94846308296151</td>\n",
       "      <td>я пойду , э , освежусь .</td>\n",
       "      <td>сделай массажный душ , джамбо .</td>\n",
       "      <td>хмм ?</td>\n",
       "      <td>3</td>\n",
       "      <td>на тот холм .</td>\n",
       "      <td>bad</td>\n",
       "      <td>0.996344</td>\n",
       "    </tr>\n",
       "    <tr>\n",
       "      <th>4</th>\n",
       "      <td>94846308296151</td>\n",
       "      <td>я пойду , э , освежусь .</td>\n",
       "      <td>сделай массажный душ , джамбо .</td>\n",
       "      <td>хмм ?</td>\n",
       "      <td>4</td>\n",
       "      <td>ты идешь внутрь .</td>\n",
       "      <td>bad</td>\n",
       "      <td>0.506997</td>\n",
       "    </tr>\n",
       "  </tbody>\n",
       "</table>\n",
       "</div>"
      ],
      "text/plain": [
       "                0                         1                                2  \\\n",
       "0  94846308296151  я пойду , э , освежусь .  сделай массажный душ , джамбо .   \n",
       "1  94846308296151  я пойду , э , освежусь .  сделай массажный душ , джамбо .   \n",
       "2  94846308296151  я пойду , э , освежусь .  сделай массажный душ , джамбо .   \n",
       "3  94846308296151  я пойду , э , освежусь .  сделай массажный душ , джамбо .   \n",
       "4  94846308296151  я пойду , э , освежусь .  сделай массажный душ , джамбо .   \n",
       "\n",
       "       3  4                    5     6         7  \n",
       "0  хмм ?  0      да , в ванной .  good  0.942226  \n",
       "1  хмм ?  1       я не грязный .   bad  0.812665  \n",
       "2  хмм ?  2  так , будь готова .  good  0.488691  \n",
       "3  хмм ?  3        на тот холм .   bad  0.996344  \n",
       "4  хмм ?  4    ты идешь внутрь .   bad  0.506997  "
      ]
     },
     "execution_count": 9,
     "metadata": {},
     "output_type": "execute_result"
    }
   ],
   "source": [
    "train.head()"
   ]
  },
  {
   "cell_type": "code",
   "execution_count": 10,
   "metadata": {},
   "outputs": [
    {
     "data": {
      "text/html": [
       "<div>\n",
       "<style scoped>\n",
       "    .dataframe tbody tr th:only-of-type {\n",
       "        vertical-align: middle;\n",
       "    }\n",
       "\n",
       "    .dataframe tbody tr th {\n",
       "        vertical-align: top;\n",
       "    }\n",
       "\n",
       "    .dataframe thead th {\n",
       "        text-align: right;\n",
       "    }\n",
       "</style>\n",
       "<table border=\"1\" class=\"dataframe\">\n",
       "  <thead>\n",
       "    <tr style=\"text-align: right;\">\n",
       "      <th></th>\n",
       "      <th>0</th>\n",
       "      <th>1</th>\n",
       "      <th>2</th>\n",
       "      <th>3</th>\n",
       "      <th>4</th>\n",
       "      <th>5</th>\n",
       "    </tr>\n",
       "  </thead>\n",
       "  <tbody>\n",
       "    <tr>\n",
       "      <th>0</th>\n",
       "      <td>138920940977</td>\n",
       "      <td>знаешь , я иногда подумываю , что тебе надо пр...</td>\n",
       "      <td>не - а .</td>\n",
       "      <td>нет ?</td>\n",
       "      <td>0</td>\n",
       "      <td>неа .</td>\n",
       "    </tr>\n",
       "    <tr>\n",
       "      <th>1</th>\n",
       "      <td>138920940977</td>\n",
       "      <td>знаешь , я иногда подумываю , что тебе надо пр...</td>\n",
       "      <td>не - а .</td>\n",
       "      <td>нет ?</td>\n",
       "      <td>1</td>\n",
       "      <td>нет , не хочу .</td>\n",
       "    </tr>\n",
       "    <tr>\n",
       "      <th>2</th>\n",
       "      <td>138920940977</td>\n",
       "      <td>знаешь , я иногда подумываю , что тебе надо пр...</td>\n",
       "      <td>не - а .</td>\n",
       "      <td>нет ?</td>\n",
       "      <td>2</td>\n",
       "      <td>нет .</td>\n",
       "    </tr>\n",
       "    <tr>\n",
       "      <th>3</th>\n",
       "      <td>138920940977</td>\n",
       "      <td>знаешь , я иногда подумываю , что тебе надо пр...</td>\n",
       "      <td>не - а .</td>\n",
       "      <td>нет ?</td>\n",
       "      <td>3</td>\n",
       "      <td>конечно , нет .</td>\n",
       "    </tr>\n",
       "    <tr>\n",
       "      <th>4</th>\n",
       "      <td>138920940977</td>\n",
       "      <td>знаешь , я иногда подумываю , что тебе надо пр...</td>\n",
       "      <td>не - а .</td>\n",
       "      <td>нет ?</td>\n",
       "      <td>4</td>\n",
       "      <td>разумеется , нет .</td>\n",
       "    </tr>\n",
       "  </tbody>\n",
       "</table>\n",
       "</div>"
      ],
      "text/plain": [
       "              0                                                  1         2  \\\n",
       "0  138920940977  знаешь , я иногда подумываю , что тебе надо пр...  не - а .   \n",
       "1  138920940977  знаешь , я иногда подумываю , что тебе надо пр...  не - а .   \n",
       "2  138920940977  знаешь , я иногда подумываю , что тебе надо пр...  не - а .   \n",
       "3  138920940977  знаешь , я иногда подумываю , что тебе надо пр...  не - а .   \n",
       "4  138920940977  знаешь , я иногда подумываю , что тебе надо пр...  не - а .   \n",
       "\n",
       "       3  4                   5  \n",
       "0  нет ?  0               неа .  \n",
       "1  нет ?  1     нет , не хочу .  \n",
       "2  нет ?  2               нет .  \n",
       "3  нет ?  3     конечно , нет .  \n",
       "4  нет ?  4  разумеется , нет .  "
      ]
     },
     "execution_count": 10,
     "metadata": {},
     "output_type": "execute_result"
    }
   ],
   "source": [
    "public.head()"
   ]
  },
  {
   "cell_type": "code",
   "execution_count": 63,
   "metadata": {},
   "outputs": [
    {
     "data": {
      "text/plain": [
       "(13899, 8)"
      ]
     },
     "execution_count": 63,
     "metadata": {},
     "output_type": "execute_result"
    }
   ],
   "source": [
    "boost.shape"
   ]
  },
  {
   "cell_type": "code",
   "execution_count": 206,
   "metadata": {},
   "outputs": [],
   "source": [
    "def run_model(train, val, emb, epochs=20, batch_size=64, sample_len=10000, load_file=None, save_file=None):\n",
    "    if load_file is None:\n",
    "        model = models.model((40, 300), eps=1e-5)\n",
    "    else:\n",
    "        model = load_model(load_file)\n",
    "\n",
    "        model.compile(\n",
    "            loss={'class_out': binary_crossentropy, \n",
    "                  'auto3' : mean_squared_error, \n",
    "                  'auto4': mean_squared_error},\n",
    "            loss_weights = {'class_out': 1, \n",
    "                  'auto3' : 0, \n",
    "                  'auto4': 0},\n",
    "            optimizer='rmsprop',\n",
    "        )\n",
    "    \n",
    "    filepath = \"weights/weights.{epoch:02d}-{val_loss:.3f}.hdf5\"\n",
    "    \n",
    "    y_train = (train['6'] == 'good').values\n",
    "    y_val = (val['6'] == 'good').values\n",
    "    w_train = train['7']\n",
    "    \n",
    "    sample_train = building.shuffle_by_groups(train, '0', random_state=0)[:sample_len]\n",
    "\n",
    "    model.fit_generator(training.flow(train, emb, batch_size, y_train, w_train),\n",
    "                        steps_per_epoch=train.shape[0] / batch_size, \n",
    "                        epochs=epochs, \n",
    "                        shuffle=True,\n",
    "                        callbacks=[callbacks.TelegramCallback(), \n",
    "                                callbacks.RocCallback(sample_train, val, emb),\n",
    "                                callbacks.NDCGCallback(sample_train, val, emb),\n",
    "                                keras.callbacks.ReduceLROnPlateau(monitor='val_loss', factor=0.9,\n",
    "                              patience=3, min_lr=1e-5),\n",
    "                                keras.callbacks.ModelCheckpoint(filepath, monitor='val_loss', verbose=0, \n",
    "                                    save_best_only=False, save_weights_only=False, mode='auto', period=1)\n",
    "                                  ],\n",
    "                        validation_data=training.flow(val, emb, batch_size, y_train),\n",
    "                        validation_steps=val.shape[0] / batch_size,\n",
    "                       )\n",
    "\n",
    "    if save_file is not None:\n",
    "        model.save(save_file)"
   ]
  },
  {
   "cell_type": "code",
   "execution_count": 207,
   "metadata": {
    "scrolled": true
   },
   "outputs": [
    {
     "name": "stdout",
     "output_type": "stream",
     "text": [
      "Epoch 1/20\n",
      "1108/1107 [==============================] - 339s 306ms/step - loss: 0.5368 - class_out_loss: 0.5137 - auto3_loss: 0.9561 - auto4_loss: 0.8353 - val_loss: 0.9785 - val_class_out_loss: 0.9547 - val_auto3_loss: 0.9770 - val_auto4_loss: 0.8560\n",
      "Epoch 2/20\n",
      "1108/1107 [==============================] - 302s 273ms/step - loss: 0.5136 - class_out_loss: 0.4884 - auto3_loss: 0.9654 - auto4_loss: 0.8447 - val_loss: 0.9847 - val_class_out_loss: 0.9581 - val_auto3_loss: 0.9757 - val_auto4_loss: 0.8546\n",
      "Epoch 3/20\n",
      "1108/1107 [==============================] - 251s 227ms/step - loss: 4.7504 - class_out_loss: 4.7208 - auto3_loss: 0.9655 - auto4_loss: 0.8446 - val_loss: 8.5274 - val_class_out_loss: 8.5023 - val_auto3_loss: 0.9771 - val_auto4_loss: 0.8553\n",
      "Epoch 4/20\n",
      "1108/1107 [==============================] - 304s 274ms/step - loss: 6.3211 - class_out_loss: 6.2982 - auto3_loss: 0.9655 - auto4_loss: 0.8447 - val_loss: 7.7430 - val_class_out_loss: 7.7206 - val_auto3_loss: 0.9776 - val_auto4_loss: 0.8559\n",
      "Epoch 5/20\n",
      "1108/1107 [==============================] - 308s 278ms/step - loss: 6.0857 - class_out_loss: 6.0725 - auto3_loss: 0.9656 - auto4_loss: 0.8445 - val_loss: 8.5244 - val_class_out_loss: 8.5113 - val_auto3_loss: 0.9796 - val_auto4_loss: 0.8560\n",
      "Epoch 6/20\n",
      "1108/1107 [==============================] - 304s 274ms/step - loss: 5.8704 - class_out_loss: 5.8611 - auto3_loss: 0.9655 - auto4_loss: 0.8446 - val_loss: 8.4201 - val_class_out_loss: 8.4121 - val_auto3_loss: 0.9755 - val_auto4_loss: 0.8546\n",
      "Epoch 7/20\n",
      "1108/1107 [==============================] - 310s 280ms/step - loss: 6.0158 - class_out_loss: 6.0056 - auto3_loss: 0.9655 - auto4_loss: 0.8447 - val_loss: 7.8296 - val_class_out_loss: 7.8241 - val_auto3_loss: 0.9780 - val_auto4_loss: 0.8547\n",
      "Epoch 8/20\n",
      "1108/1107 [==============================] - 304s 274ms/step - loss: 5.6357 - class_out_loss: 5.6275 - auto3_loss: 0.9656 - auto4_loss: 0.8447 - val_loss: 7.7133 - val_class_out_loss: 7.7020 - val_auto3_loss: 0.9751 - val_auto4_loss: 0.8539\n",
      "Epoch 9/20\n",
      "1108/1107 [==============================] - 307s 277ms/step - loss: 5.5593 - class_out_loss: 5.5455 - auto3_loss: 0.9656 - auto4_loss: 0.8447 - val_loss: 7.6985 - val_class_out_loss: 7.6832 - val_auto3_loss: 0.9771 - val_auto4_loss: 0.8534\n",
      "Epoch 10/20\n",
      "1108/1107 [==============================] - 514s 464ms/step - loss: 6.2646 - class_out_loss: 6.2507 - auto3_loss: 0.9653 - auto4_loss: 0.8446 - val_loss: 7.8246 - val_class_out_loss: 7.8115 - val_auto3_loss: 0.9788 - val_auto4_loss: 0.8559\n",
      "Epoch 11/20\n",
      "1108/1107 [==============================] - 402s 363ms/step - loss: 6.4164 - class_out_loss: 6.4020 - auto3_loss: 0.9657 - auto4_loss: 0.8448 - val_loss: 7.9226 - val_class_out_loss: 7.9076 - val_auto3_loss: 0.9806 - val_auto4_loss: 0.8557\n",
      "Epoch 12/20\n",
      "1108/1107 [==============================] - 321s 290ms/step - loss: 5.9998 - class_out_loss: 5.9837 - auto3_loss: 0.9656 - auto4_loss: 0.8448 - val_loss: 7.6044 - val_class_out_loss: 7.5874 - val_auto3_loss: 0.9755 - val_auto4_loss: 0.8542\n",
      "Epoch 13/20\n",
      "1108/1107 [==============================] - 345s 312ms/step - loss: 6.2045 - class_out_loss: 6.1870 - auto3_loss: 0.9656 - auto4_loss: 0.8447 - val_loss: 7.6734 - val_class_out_loss: 7.6564 - val_auto3_loss: 0.9750 - val_auto4_loss: 0.8550\n",
      "Epoch 14/20\n",
      "1108/1107 [==============================] - 333s 301ms/step - loss: 5.9889 - class_out_loss: 5.9723 - auto3_loss: 0.9657 - auto4_loss: 0.8448 - val_loss: 7.7419 - val_class_out_loss: 7.7250 - val_auto3_loss: 0.9757 - val_auto4_loss: 0.8558\n",
      "Epoch 15/20\n",
      "1108/1107 [==============================] - 325s 294ms/step - loss: 5.4191 - class_out_loss: 5.4017 - auto3_loss: 0.9657 - auto4_loss: 0.8447 - val_loss: 7.7853 - val_class_out_loss: 7.7679 - val_auto3_loss: 0.9748 - val_auto4_loss: 0.8554\n",
      "Epoch 16/20\n",
      "1108/1107 [==============================] - 321s 290ms/step - loss: 5.6666 - class_out_loss: 5.6489 - auto3_loss: 0.9655 - auto4_loss: 0.8446 - val_loss: 8.2788 - val_class_out_loss: 8.2603 - val_auto3_loss: 0.9750 - val_auto4_loss: 0.8550\n",
      "Epoch 17/20\n",
      "1108/1107 [==============================] - 310s 280ms/step - loss: 5.5342 - class_out_loss: 5.5152 - auto3_loss: 0.9656 - auto4_loss: 0.8446 - val_loss: 7.8957 - val_class_out_loss: 7.8764 - val_auto3_loss: 0.9736 - val_auto4_loss: 0.8541\n",
      "Epoch 18/20\n",
      "1108/1107 [==============================] - 304s 274ms/step - loss: 5.4585 - class_out_loss: 5.4385 - auto3_loss: 0.9655 - auto4_loss: 0.8447 - val_loss: 7.7439 - val_class_out_loss: 7.7235 - val_auto3_loss: 0.9745 - val_auto4_loss: 0.8538\n",
      "Epoch 19/20\n",
      "1108/1107 [==============================] - 423s 382ms/step - loss: 5.4814 - class_out_loss: 5.4607 - auto3_loss: 0.9654 - auto4_loss: 0.8447 - val_loss: 8.0602 - val_class_out_loss: 8.0390 - val_auto3_loss: 0.9759 - val_auto4_loss: 0.8541\n",
      "Epoch 20/20\n",
      "1108/1107 [==============================] - 368s 332ms/step - loss: 5.6447 - class_out_loss: 5.6232 - auto3_loss: 0.9655 - auto4_loss: 0.8447 - val_loss: 7.8442 - val_class_out_loss: 7.8225 - val_auto3_loss: 0.9748 - val_auto4_loss: 0.8552\n"
     ]
    }
   ],
   "source": [
    "run_model(train, val, emb, load_file='weights/weights.06-2.292.hdf5')"
   ]
  },
  {
   "cell_type": "code",
   "execution_count": 196,
   "metadata": {},
   "outputs": [
    {
     "name": "stdout",
     "output_type": "stream",
     "text": [
      "ndcg_mean: 0.9033897938335989, ndcg_std: 0.14468554771085015\n"
     ]
    },
    {
     "data": {
      "text/plain": [
       "array([[0.6410377 ],\n",
       "       [0.97201127],\n",
       "       [0.58125263],\n",
       "       ...,\n",
       "       [0.61131245],\n",
       "       [0.74294466],\n",
       "       [0.7219546 ]], dtype=float32)"
      ]
     },
     "execution_count": 196,
     "metadata": {},
     "output_type": "execute_result"
    }
   ],
   "source": [
    "training.predict_with_nn(model, test, emb, use_y=True)"
   ]
  },
  {
   "cell_type": "markdown",
   "metadata": {},
   "source": [
    "у недоученной модели(автоэнкодер) 0.892 +- 0.150, лидерборд - 0.84742\n",
    "\n",
    "у четкой модели - 0.903 +- 0.145, лидерборд - 0.84497"
   ]
  },
  {
   "cell_type": "code",
   "execution_count": 54,
   "metadata": {},
   "outputs": [
    {
     "name": "stdout",
     "output_type": "stream",
     "text": [
      "ndcg_mean: 0.8998286971054842, ndcg_std: 0.14367885667958052\n"
     ]
    },
    {
     "data": {
      "text/plain": [
       "array([[0.4160223 ],\n",
       "       [0.35829148],\n",
       "       [0.3237929 ],\n",
       "       ...,\n",
       "       [0.29188445],\n",
       "       [0.8074343 ],\n",
       "       [0.60766774]], dtype=float32)"
      ]
     },
     "execution_count": 54,
     "metadata": {},
     "output_type": "execute_result"
    }
   ],
   "source": [
    "training.predict_with_nn(model, boost, emb, use_y=True)"
   ]
  },
  {
   "cell_type": "code",
   "execution_count": 98,
   "metadata": {},
   "outputs": [],
   "source": [
    "public_pred = training.predict_with_nn(model, public, emb, use_y=False)"
   ]
  },
  {
   "cell_type": "code",
   "execution_count": 99,
   "metadata": {},
   "outputs": [],
   "source": [
    "sub = wonder.create_sub(public, public_pred, 'submissions/sub_only_with_tuned_model0.csv')"
   ]
  },
  {
   "cell_type": "markdown",
   "metadata": {},
   "source": [
    "## pyltr"
   ]
  },
  {
   "cell_type": "code",
   "execution_count": 9,
   "metadata": {},
   "outputs": [],
   "source": [
    "with open('model_pyltr', 'rb') as f:\n",
    "    rank_model = pickle.load(f)[0]"
   ]
  },
  {
   "cell_type": "code",
   "execution_count": 38,
   "metadata": {},
   "outputs": [],
   "source": [
    "metric = pyltr.metrics.NDCG(k=6, gain_type='identity')\n",
    "\n",
    "rank_model = pyltr.models.LambdaMART(\n",
    "    metric=metric,\n",
    "    n_estimators=1000,\n",
    "    learning_rate=0.05,\n",
    "    max_features=0.3,\n",
    "    subsample=1,\n",
    "    random_state=1,\n",
    "    max_leaf_nodes=8,\n",
    "    min_samples_leaf=100,\n",
    "    verbose=1,\n",
    ")"
   ]
  },
  {
   "cell_type": "code",
   "execution_count": 40,
   "metadata": {
    "scrolled": true
   },
   "outputs": [],
   "source": [
    "res, rank_model = generator.train_pyltr(rank_model, metric, \\\n",
    "                                   model, emb, boost, \\\n",
    "                                   model_file='rank_model', use_cache=True, stop_after=500)"
   ]
  },
  {
   "cell_type": "code",
   "execution_count": 33,
   "metadata": {},
   "outputs": [
    {
     "data": {
      "text/plain": [
       "(0.9172111600057461, 0.1250853174634983)"
      ]
     },
     "execution_count": 33,
     "metadata": {},
     "output_type": "execute_result"
    }
   ],
   "source": [
    "res"
   ]
  },
  {
   "cell_type": "code",
   "execution_count": 34,
   "metadata": {},
   "outputs": [
    {
     "name": "stderr",
     "output_type": "stream",
     "text": [
      "/Users/sergmiller/Documents/code/python/alissa/generator.py:15: UserWarning: Update your `Model` call to the Keras 2 API: `Model(outputs=Tensor(\"co..., inputs=[<tf.Tenso...)`\n",
      "  output=model.get_layer(model.layers[5].name).output)\n"
     ]
    },
    {
     "name": "stdout",
     "output_type": "stream",
     "text": [
      "ndcg_mean: 0.9017489184385077, ndcg_std: 0.14364126367230878\n"
     ]
    }
   ],
   "source": [
    "y_pred = training.predict_with_stack_model(rank_model, model, test, emb, use_y=True)"
   ]
  },
  {
   "cell_type": "markdown",
   "metadata": {},
   "source": [
    "## catboost"
   ]
  },
  {
   "cell_type": "code",
   "execution_count": 44,
   "metadata": {
    "scrolled": true
   },
   "outputs": [],
   "source": [
    "rank_model = CatBoostRegressor(\n",
    "                            iterations=1000, \n",
    "                            depth=6, \n",
    "                            rsm=1, \n",
    "                            l2_leaf_reg=6,\n",
    "                            thread_count=4,\n",
    "                            learning_rate= 1e-2,\n",
    "                            eval_metric='YetiRank',\n",
    "                            loss_function='YetiRank',\n",
    "                            random_state=1,\n",
    "                            bagging_temperature=0.1,\n",
    "                            use_best_model=True,\n",
    "                                  )"
   ]
  },
  {
   "cell_type": "code",
   "execution_count": 49,
   "metadata": {},
   "outputs": [
    {
     "data": {
      "text/plain": [
       "<module 'generator' from '/Users/sergmiller/Documents/code/python/alissa/generator.py'>"
      ]
     },
     "execution_count": 49,
     "metadata": {},
     "output_type": "execute_result"
    }
   ],
   "source": [
    "reload(generator)"
   ]
  },
  {
   "cell_type": "code",
   "execution_count": null,
   "metadata": {
    "scrolled": false
   },
   "outputs": [],
   "source": [
    "res, rank_model = generator.train_catboost(rank_model, \\\n",
    "                                model, emb, train_val, boost, \\\n",
    "                                model_file='rank_model_cat', use_cache=False)"
   ]
  },
  {
   "cell_type": "code",
   "execution_count": 34,
   "metadata": {},
   "outputs": [
    {
     "data": {
      "text/plain": [
       "(0.9075720853700862, 0.13469497977927758)"
      ]
     },
     "execution_count": 34,
     "metadata": {},
     "output_type": "execute_result"
    }
   ],
   "source": [
    "res"
   ]
  },
  {
   "cell_type": "code",
   "execution_count": 57,
   "metadata": {},
   "outputs": [
    {
     "name": "stdout",
     "output_type": "stream",
     "text": [
      "ndcg_mean: 0.8962751367496137, ndcg_std: 0.15006599666691117\n"
     ]
    }
   ],
   "source": [
    "y_pred = training.predict_with_stack_model(rank_model, model, test, emb, use_y=True)"
   ]
  },
  {
   "cell_type": "code",
   "execution_count": null,
   "metadata": {},
   "outputs": [],
   "source": []
  },
  {
   "cell_type": "code",
   "execution_count": 28,
   "metadata": {},
   "outputs": [
    {
     "name": "stderr",
     "output_type": "stream",
     "text": [
      "/Users/sergmiller/Documents/code/python/alissa/generator.py:15: UserWarning: Update your `Model` call to the Keras 2 API: `Model(outputs=Tensor(\"co..., inputs=[<tf.Tenso...)`\n",
      "  output=model.get_layer(model.layers[5].name).output)\n"
     ]
    }
   ],
   "source": [
    "public_pred = training.predict_with_stack_model(rank_model, model, public, emb)"
   ]
  },
  {
   "cell_type": "code",
   "execution_count": 46,
   "metadata": {},
   "outputs": [],
   "source": [
    "sub = wonder.create_sub(public, public_pred, 'submissions/sub_pfound_1068_2level_model.csv')"
   ]
  },
  {
   "cell_type": "code",
   "execution_count": null,
   "metadata": {},
   "outputs": [],
   "source": []
  }
 ],
 "metadata": {
  "kernelspec": {
   "display_name": "py35",
   "language": "python",
   "name": "py35"
  },
  "language_info": {
   "codemirror_mode": {
    "name": "ipython",
    "version": 3
   },
   "file_extension": ".py",
   "mimetype": "text/x-python",
   "name": "python",
   "nbconvert_exporter": "python",
   "pygments_lexer": "ipython3",
   "version": "3.5.4"
  }
 },
 "nbformat": 4,
 "nbformat_minor": 2
}
