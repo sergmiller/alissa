{
 "cells": [
  {
   "cell_type": "code",
   "execution_count": null,
   "metadata": {},
   "outputs": [],
   "source": []
  },
  {
   "cell_type": "code",
   "execution_count": null,
   "metadata": {},
   "outputs": [],
   "source": [
    "def model1(input_shape):\n",
    "    '''\n",
    "    simple 1D conv model\n",
    "    '''\n",
    "    eps = 1e-5\n",
    "\n",
    "def base_model(input_shape, params_shape, alpha_lock=0.8):\n",
    "    assert 0 <= alpha_lock <= 1\n",
    "    img_input = Input(shape=(input_shape), name='img_input')\n",
    "    params_input = Input(shape=(params_shape), name='params_input')\n",
    "    xcpn = keras.applications.xception.Xception(include_top=False, weights='imagenet', \n",
    "                                         input_shape=None, pooling=None)\n",
    "    \n",
    "    net = xcpn(img_input)\n",
    "    \n",
    "    for layer in xcpn.layers[:int(len(xcpn.layers)*alpha_lock)]:\n",
    "        layer.trainable = False\n",
    "    net = GlobalAveragePooling2D()(net)\n",
    "    net = concatenate([net, params_input])\n",
    "    net = Dense(512, activation='linear', kernel_regularizer=l2(eps), bias_regularizer=l2(eps))(net)\n",
    "    net = LeakyReLU(alpha=0.3)(net)\n",
    "    net = BatchNormalization()(net)\n",
    "    net = Dropout(0.001)(net)\n",
    "    net = Dense(units=50, activation=relu,  kernel_regularizer=l2(eps), bias_regularizer=l2(eps))(net)\n",
    "    outputs = Dense(units=18,  kernel_regularizer=l2(eps), bias_regularizer=l2(eps))(net)\n",
    "    \n",
    "    model = Model(inputs=[img_input, params_input], outputs=outputs)\n",
    "    \n",
    "#     for layer in model.layers[:int(len(model.layers)*alpha_lock)]:\n",
    "#         layer.trainable = False\n",
    "        \n",
    "    \n",
    "    model.compile(\n",
    "            loss=mean_absolute_error,\n",
    "            optimizer=Adam(lr = 1e-3),\n",
    "    )\n",
    "    \n",
    "    return model"
   ]
  }
 ],
 "metadata": {
  "kernelspec": {
   "display_name": "Python [conda root]",
   "language": "python",
   "name": "conda-root-py"
  },
  "language_info": {
   "codemirror_mode": {
    "name": "ipython",
    "version": 3
   },
   "file_extension": ".py",
   "mimetype": "text/x-python",
   "name": "python",
   "nbconvert_exporter": "python",
   "pygments_lexer": "ipython3",
   "version": "3.6.4"
  }
 },
 "nbformat": 4,
 "nbformat_minor": 2
}
