{
 "cells": [
  {
   "cell_type": "code",
   "execution_count": 44,
   "metadata": {},
   "outputs": [],
   "source": [
    "import pandas as pd\n",
    "import numpy as np\n",
    "import matplotlib.pyplot as plt\n",
    "from tqdm import tqdm\n",
    "\n",
    "%matplotlib inline"
   ]
  },
  {
   "cell_type": "code",
   "execution_count": 49,
   "metadata": {},
   "outputs": [],
   "source": [
    "import csv\n",
    "\n",
    "with open('datasets/train.tsv') as tsvfile:\n",
    "    reader = csv.reader(tsvfile, delimiter='\\t')\n",
    "    rows_train = [row for row in reader]\n",
    "    \n",
    "with open('datasets/public.tsv') as tsvfile:\n",
    "    reader = csv.reader(tsvfile, delimiter='\\t')\n",
    "    rows_public = [row for row in reader]"
   ]
  },
  {
   "cell_type": "code",
   "execution_count": 50,
   "metadata": {},
   "outputs": [
    {
     "data": {
      "text/plain": [
       "(['22579918886',\n",
       "  'кликни на меня а потом на надпись \" видео - звонок \" .',\n",
       "  'о , я тебя вижу .',\n",
       "  'ладно , повесь трубку .',\n",
       "  '0',\n",
       "  'не могу .',\n",
       "  'good',\n",
       "  '0.8753516175'],\n",
       " ['138920940977',\n",
       "  'знаешь , я иногда подумываю , что тебе надо принести сюда свою гитару и показать местным настоящую игру .',\n",
       "  'не - а .',\n",
       "  'нет ?',\n",
       "  '0',\n",
       "  'неа .'])"
      ]
     },
     "execution_count": 50,
     "metadata": {},
     "output_type": "execute_result"
    }
   ],
   "source": [
    "rows_train[0], rows_public[0]"
   ]
  },
  {
   "cell_type": "code",
   "execution_count": null,
   "metadata": {},
   "outputs": [
    {
     "name": "stderr",
     "output_type": "stream",
     "text": [
      " 87%|████████▋ | 81618/93349 [00:14<00:02, 5689.05it/s]"
     ]
    }
   ],
   "source": [
    "import enchant\n",
    "d = enchant.Dict(\"en_US\")\n",
    "\n",
    "def check_en(rows, maxind=2):\n",
    "    global d\n",
    "    for r in tqdm(rows, position=0):\n",
    "        for k in r[:len(r)-maxind]:\n",
    "            if k != '' and d.check(k) and not k.isnumeric():\n",
    "                print(r, k)\n",
    "                return\n",
    "            \n",
    "check_en(rows_train)\n",
    "check_en(rows_public, 0)"
   ]
  },
  {
   "cell_type": "markdown",
   "metadata": {},
   "source": [
    "видно, что нет реплик на английском"
   ]
  },
  {
   "cell_type": "code",
   "execution_count": null,
   "metadata": {},
   "outputs": [],
   "source": []
  }
 ],
 "metadata": {
  "kernelspec": {
   "display_name": "Python [conda env:anaconda3]",
   "language": "python",
   "name": "conda-env-anaconda3-py"
  },
  "language_info": {
   "codemirror_mode": {
    "name": "ipython",
    "version": 3
   },
   "file_extension": ".py",
   "mimetype": "text/x-python",
   "name": "python",
   "nbconvert_exporter": "python",
   "pygments_lexer": "ipython3",
   "version": "3.6.4"
  }
 },
 "nbformat": 4,
 "nbformat_minor": 2
}
